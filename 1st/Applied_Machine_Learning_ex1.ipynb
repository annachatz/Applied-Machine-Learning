{
  "cells": [
    {
      "cell_type": "markdown",
      "metadata": {
        "id": "N22mpFkURvVK"
      },
      "source": [
        "**Import the important libraries we are going to use**"
      ]
    },
    {
      "cell_type": "code",
      "execution_count": 1,
      "metadata": {
        "id": "0w9A5AxrRue_"
      },
      "outputs": [],
      "source": [
        "import numpy as np\n",
        "import pandas as pd\n",
        "import matplotlib.pyplot as plt\n",
        "import math"
      ]
    },
    {
      "cell_type": "markdown",
      "metadata": {
        "id": "SxRxxEZReTWu"
      },
      "source": [
        "Student ID: p3200219\n",
        "Name: Anna\n",
        "Last Name: Chatzipapadopoulou\n",
        "Department Of Informatics"
      ]
    },
    {
      "cell_type": "markdown",
      "metadata": {
        "id": "efqRZA4YMlvr"
      },
      "source": [
        "## Neighbourhood Listings in Descending Order\n",
        "\n",
        "Show the listings per neighbourghood, with the most popular neighbourhoods first (that is, in decreasing neighbourhood popularity order)."
      ]
    },
    {
      "cell_type": "code",
      "execution_count": 3,
      "metadata": {
        "id": "ehyr1JwUMtj7"
      },
      "outputs": [],
      "source": [
        "dataset = pd.read_csv('listings-2.csv') # step 1 load dataset"
      ]
    },
    {
      "cell_type": "code",
      "execution_count": 5,
      "metadata": {
        "id": "-dAtBtlEdJ81"
      },
      "outputs": [],
      "source": [
        "n = pd.read_csv('neighbourhoods.csv') # step 1 load dataset"
      ]
    },
    {
      "cell_type": "code",
      "execution_count": 6,
      "metadata": {
        "colab": {
          "base_uri": "https://localhost:8080/"
        },
        "id": "tGSw97NhdO6Q",
        "outputId": "cb72e5de-4bd2-4b4c-b37d-d16939c5ae13"
      },
      "outputs": [
        {
          "data": {
            "text/plain": [
              "45"
            ]
          },
          "execution_count": 6,
          "metadata": {},
          "output_type": "execute_result"
        }
      ],
      "source": [
        "len(n)"
      ]
    },
    {
      "cell_type": "code",
      "execution_count": 7,
      "metadata": {
        "colab": {
          "base_uri": "https://localhost:8080/",
          "height": 1000
        },
        "id": "FLxnn78adVJi",
        "outputId": "68229eb4-838e-4176-8a4d-945656d036fa"
      },
      "outputs": [
        {
          "data": {
            "text/html": [
              "<div>\n",
              "<style scoped>\n",
              "    .dataframe tbody tr th:only-of-type {\n",
              "        vertical-align: middle;\n",
              "    }\n",
              "\n",
              "    .dataframe tbody tr th {\n",
              "        vertical-align: top;\n",
              "    }\n",
              "\n",
              "    .dataframe thead th {\n",
              "        text-align: right;\n",
              "    }\n",
              "</style>\n",
              "<table border=\"1\" class=\"dataframe\">\n",
              "  <thead>\n",
              "    <tr style=\"text-align: right;\">\n",
              "      <th></th>\n",
              "      <th>neighbourhood_group</th>\n",
              "      <th>neighbourhood</th>\n",
              "    </tr>\n",
              "  </thead>\n",
              "  <tbody>\n",
              "    <tr>\n",
              "      <th>0</th>\n",
              "      <td>NaN</td>\n",
              "      <td>1Ο ΝΕΚΡΟΤΑΦΕΙΟ</td>\n",
              "    </tr>\n",
              "    <tr>\n",
              "      <th>1</th>\n",
              "      <td>NaN</td>\n",
              "      <td>ΑΓΙΟΣ ΕΛΕΥΘΕΡΙΟΣ</td>\n",
              "    </tr>\n",
              "    <tr>\n",
              "      <th>2</th>\n",
              "      <td>NaN</td>\n",
              "      <td>ΑΓΙΟΣ ΚΩΝΣΤΑΝΤΙΝΟΣ-ΠΛΑΤΕΙΑ ΒΑΘΗΣ</td>\n",
              "    </tr>\n",
              "    <tr>\n",
              "      <th>3</th>\n",
              "      <td>NaN</td>\n",
              "      <td>ΑΓΙΟΣ ΝΙΚΟΛΑΟΣ</td>\n",
              "    </tr>\n",
              "    <tr>\n",
              "      <th>4</th>\n",
              "      <td>NaN</td>\n",
              "      <td>ΑΚΑΔΗΜΙΑ ΠΛΑΤΩΝΟΣ</td>\n",
              "    </tr>\n",
              "    <tr>\n",
              "      <th>5</th>\n",
              "      <td>NaN</td>\n",
              "      <td>ΑΚΡΟΠΟΛΗ</td>\n",
              "    </tr>\n",
              "    <tr>\n",
              "      <th>6</th>\n",
              "      <td>NaN</td>\n",
              "      <td>ΑΜΠΕΛΟΚΗΠΟΙ</td>\n",
              "    </tr>\n",
              "    <tr>\n",
              "      <th>7</th>\n",
              "      <td>NaN</td>\n",
              "      <td>ΑΝΩ ΚΥΨΕΛΗ</td>\n",
              "    </tr>\n",
              "    <tr>\n",
              "      <th>8</th>\n",
              "      <td>NaN</td>\n",
              "      <td>ΑΝΩ ΠΑΤΗΣΙΑ</td>\n",
              "    </tr>\n",
              "    <tr>\n",
              "      <th>9</th>\n",
              "      <td>NaN</td>\n",
              "      <td>ΒΟΤΑΝΙΚΟΣ</td>\n",
              "    </tr>\n",
              "    <tr>\n",
              "      <th>10</th>\n",
              "      <td>NaN</td>\n",
              "      <td>ΓΚΑΖΙ</td>\n",
              "    </tr>\n",
              "    <tr>\n",
              "      <th>11</th>\n",
              "      <td>NaN</td>\n",
              "      <td>ΓΚΥΖΗ</td>\n",
              "    </tr>\n",
              "    <tr>\n",
              "      <th>12</th>\n",
              "      <td>NaN</td>\n",
              "      <td>ΓΟΥΒΑ</td>\n",
              "    </tr>\n",
              "    <tr>\n",
              "      <th>13</th>\n",
              "      <td>NaN</td>\n",
              "      <td>ΓΟΥΔΙ</td>\n",
              "    </tr>\n",
              "    <tr>\n",
              "      <th>14</th>\n",
              "      <td>NaN</td>\n",
              "      <td>ΕΛΛΗΝΟΡΩΣΩΝ</td>\n",
              "    </tr>\n",
              "    <tr>\n",
              "      <th>15</th>\n",
              "      <td>NaN</td>\n",
              "      <td>ΕΜΠΟΡΙΚΟ ΤΡΙΓΩΝΟ-ΠΛΑΚΑ</td>\n",
              "    </tr>\n",
              "    <tr>\n",
              "      <th>16</th>\n",
              "      <td>NaN</td>\n",
              "      <td>ΖΑΠΠΕΙΟ</td>\n",
              "    </tr>\n",
              "    <tr>\n",
              "      <th>17</th>\n",
              "      <td>NaN</td>\n",
              "      <td>ΘΗΣΕΙΟ</td>\n",
              "    </tr>\n",
              "    <tr>\n",
              "      <th>18</th>\n",
              "      <td>NaN</td>\n",
              "      <td>ΙΛΙΣΙΑ</td>\n",
              "    </tr>\n",
              "    <tr>\n",
              "      <th>19</th>\n",
              "      <td>NaN</td>\n",
              "      <td>ΚΕΡΑΜΕΙΚΟΣ</td>\n",
              "    </tr>\n",
              "    <tr>\n",
              "      <th>20</th>\n",
              "      <td>NaN</td>\n",
              "      <td>ΚΟΛΟΚΥΝΘΟΥ</td>\n",
              "    </tr>\n",
              "    <tr>\n",
              "      <th>21</th>\n",
              "      <td>NaN</td>\n",
              "      <td>ΚΟΛΩΝΑΚΙ</td>\n",
              "    </tr>\n",
              "    <tr>\n",
              "      <th>22</th>\n",
              "      <td>NaN</td>\n",
              "      <td>ΚΟΛΩΝΟΣ</td>\n",
              "    </tr>\n",
              "    <tr>\n",
              "      <th>23</th>\n",
              "      <td>NaN</td>\n",
              "      <td>ΚΟΥΚΑΚΙ-ΜΑΚΡΥΓΙΑΝΝΗ</td>\n",
              "    </tr>\n",
              "    <tr>\n",
              "      <th>24</th>\n",
              "      <td>NaN</td>\n",
              "      <td>ΚΥΨΕΛΗ</td>\n",
              "    </tr>\n",
              "    <tr>\n",
              "      <th>25</th>\n",
              "      <td>NaN</td>\n",
              "      <td>ΛΥΚΑΒΗΤΤΟΣ</td>\n",
              "    </tr>\n",
              "    <tr>\n",
              "      <th>26</th>\n",
              "      <td>NaN</td>\n",
              "      <td>ΜΟΥΣΕΙΟ-ΕΞΑΡΧΕΙΑ-ΝΕΑΠΟΛΗ</td>\n",
              "    </tr>\n",
              "    <tr>\n",
              "      <th>27</th>\n",
              "      <td>NaN</td>\n",
              "      <td>ΝΕΑ ΚΥΨΕΛΗ</td>\n",
              "    </tr>\n",
              "    <tr>\n",
              "      <th>28</th>\n",
              "      <td>NaN</td>\n",
              "      <td>ΝΕΟΣ ΚΟΣΜΟΣ</td>\n",
              "    </tr>\n",
              "    <tr>\n",
              "      <th>29</th>\n",
              "      <td>NaN</td>\n",
              "      <td>ΝΙΡΒΑΝΑ</td>\n",
              "    </tr>\n",
              "    <tr>\n",
              "      <th>30</th>\n",
              "      <td>NaN</td>\n",
              "      <td>ΠΑΓΚΡΑΤΙ</td>\n",
              "    </tr>\n",
              "    <tr>\n",
              "      <th>31</th>\n",
              "      <td>NaN</td>\n",
              "      <td>ΠΑΤΗΣΙΑ</td>\n",
              "    </tr>\n",
              "    <tr>\n",
              "      <th>32</th>\n",
              "      <td>NaN</td>\n",
              "      <td>ΠΕΔΙΟ ΑΡΕΩΣ</td>\n",
              "    </tr>\n",
              "    <tr>\n",
              "      <th>33</th>\n",
              "      <td>NaN</td>\n",
              "      <td>ΠΕΝΤΑΓΩΝΟ</td>\n",
              "    </tr>\n",
              "    <tr>\n",
              "      <th>34</th>\n",
              "      <td>NaN</td>\n",
              "      <td>ΠΕΤΡΑΛΩΝΑ</td>\n",
              "    </tr>\n",
              "    <tr>\n",
              "      <th>35</th>\n",
              "      <td>NaN</td>\n",
              "      <td>ΠΛΑΤΕΙΑ ΑΜΕΡΙΚΗΣ</td>\n",
              "    </tr>\n",
              "    <tr>\n",
              "      <th>36</th>\n",
              "      <td>NaN</td>\n",
              "      <td>ΠΛΑΤΕΙΑ ΑΤΤΙΚΗΣ</td>\n",
              "    </tr>\n",
              "    <tr>\n",
              "      <th>37</th>\n",
              "      <td>NaN</td>\n",
              "      <td>ΠΟΛΥΓΩΝΟ</td>\n",
              "    </tr>\n",
              "    <tr>\n",
              "      <th>38</th>\n",
              "      <td>NaN</td>\n",
              "      <td>ΠΡΟΜΠΟΝΑ</td>\n",
              "    </tr>\n",
              "    <tr>\n",
              "      <th>39</th>\n",
              "      <td>NaN</td>\n",
              "      <td>ΡΗΓΙΛΛΗΣ</td>\n",
              "    </tr>\n",
              "    <tr>\n",
              "      <th>40</th>\n",
              "      <td>NaN</td>\n",
              "      <td>ΡΙΖΟΥΠΟΛΗ</td>\n",
              "    </tr>\n",
              "    <tr>\n",
              "      <th>41</th>\n",
              "      <td>NaN</td>\n",
              "      <td>ΡΟΥΦ</td>\n",
              "    </tr>\n",
              "    <tr>\n",
              "      <th>42</th>\n",
              "      <td>NaN</td>\n",
              "      <td>ΣΕΠΟΛΙΑ</td>\n",
              "    </tr>\n",
              "    <tr>\n",
              "      <th>43</th>\n",
              "      <td>NaN</td>\n",
              "      <td>ΣΤΑΔΙΟ</td>\n",
              "    </tr>\n",
              "    <tr>\n",
              "      <th>44</th>\n",
              "      <td>NaN</td>\n",
              "      <td>ΣΤΑΘΜΟΣ ΛΑΡΙΣΗΣ</td>\n",
              "    </tr>\n",
              "  </tbody>\n",
              "</table>\n",
              "</div>"
            ],
            "text/plain": [
              "    neighbourhood_group                     neighbourhood\n",
              "0                   NaN                    1Ο ΝΕΚΡΟΤΑΦΕΙΟ\n",
              "1                   NaN                  ΑΓΙΟΣ ΕΛΕΥΘΕΡΙΟΣ\n",
              "2                   NaN  ΑΓΙΟΣ ΚΩΝΣΤΑΝΤΙΝΟΣ-ΠΛΑΤΕΙΑ ΒΑΘΗΣ\n",
              "3                   NaN                    ΑΓΙΟΣ ΝΙΚΟΛΑΟΣ\n",
              "4                   NaN                 ΑΚΑΔΗΜΙΑ ΠΛΑΤΩΝΟΣ\n",
              "5                   NaN                          ΑΚΡΟΠΟΛΗ\n",
              "6                   NaN                       ΑΜΠΕΛΟΚΗΠΟΙ\n",
              "7                   NaN                        ΑΝΩ ΚΥΨΕΛΗ\n",
              "8                   NaN                       ΑΝΩ ΠΑΤΗΣΙΑ\n",
              "9                   NaN                         ΒΟΤΑΝΙΚΟΣ\n",
              "10                  NaN                             ΓΚΑΖΙ\n",
              "11                  NaN                             ΓΚΥΖΗ\n",
              "12                  NaN                             ΓΟΥΒΑ\n",
              "13                  NaN                             ΓΟΥΔΙ\n",
              "14                  NaN                       ΕΛΛΗΝΟΡΩΣΩΝ\n",
              "15                  NaN            ΕΜΠΟΡΙΚΟ ΤΡΙΓΩΝΟ-ΠΛΑΚΑ\n",
              "16                  NaN                           ΖΑΠΠΕΙΟ\n",
              "17                  NaN                            ΘΗΣΕΙΟ\n",
              "18                  NaN                            ΙΛΙΣΙΑ\n",
              "19                  NaN                        ΚΕΡΑΜΕΙΚΟΣ\n",
              "20                  NaN                        ΚΟΛΟΚΥΝΘΟΥ\n",
              "21                  NaN                          ΚΟΛΩΝΑΚΙ\n",
              "22                  NaN                           ΚΟΛΩΝΟΣ\n",
              "23                  NaN               ΚΟΥΚΑΚΙ-ΜΑΚΡΥΓΙΑΝΝΗ\n",
              "24                  NaN                            ΚΥΨΕΛΗ\n",
              "25                  NaN                        ΛΥΚΑΒΗΤΤΟΣ\n",
              "26                  NaN          ΜΟΥΣΕΙΟ-ΕΞΑΡΧΕΙΑ-ΝΕΑΠΟΛΗ\n",
              "27                  NaN                        ΝΕΑ ΚΥΨΕΛΗ\n",
              "28                  NaN                       ΝΕΟΣ ΚΟΣΜΟΣ\n",
              "29                  NaN                           ΝΙΡΒΑΝΑ\n",
              "30                  NaN                          ΠΑΓΚΡΑΤΙ\n",
              "31                  NaN                           ΠΑΤΗΣΙΑ\n",
              "32                  NaN                       ΠΕΔΙΟ ΑΡΕΩΣ\n",
              "33                  NaN                         ΠΕΝΤΑΓΩΝΟ\n",
              "34                  NaN                         ΠΕΤΡΑΛΩΝΑ\n",
              "35                  NaN                  ΠΛΑΤΕΙΑ ΑΜΕΡΙΚΗΣ\n",
              "36                  NaN                   ΠΛΑΤΕΙΑ ΑΤΤΙΚΗΣ\n",
              "37                  NaN                          ΠΟΛΥΓΩΝΟ\n",
              "38                  NaN                          ΠΡΟΜΠΟΝΑ\n",
              "39                  NaN                          ΡΗΓΙΛΛΗΣ\n",
              "40                  NaN                         ΡΙΖΟΥΠΟΛΗ\n",
              "41                  NaN                              ΡΟΥΦ\n",
              "42                  NaN                           ΣΕΠΟΛΙΑ\n",
              "43                  NaN                            ΣΤΑΔΙΟ\n",
              "44                  NaN                   ΣΤΑΘΜΟΣ ΛΑΡΙΣΗΣ"
            ]
          },
          "execution_count": 7,
          "metadata": {},
          "output_type": "execute_result"
        }
      ],
      "source": [
        "n"
      ]
    },
    {
      "cell_type": "code",
      "execution_count": 8,
      "metadata": {
        "colab": {
          "base_uri": "https://localhost:8080/"
        },
        "id": "jg9vI22_M09C",
        "outputId": "e3bf36f8-c633-4f3c-ef03-c2a63000f0e2"
      },
      "outputs": [
        {
          "data": {
            "text/plain": [
              "44"
            ]
          },
          "execution_count": 8,
          "metadata": {},
          "output_type": "execute_result"
        }
      ],
      "source": [
        "dataset['neighbourhood'].nunique() # number of unique neighbourhoods"
      ]
    },
    {
      "cell_type": "code",
      "execution_count": 9,
      "metadata": {
        "colab": {
          "base_uri": "https://localhost:8080/"
        },
        "id": "kkCDg-mhNHF_",
        "outputId": "4cf1e26b-59ab-491f-e583-aed188f9ab1c"
      },
      "outputs": [
        {
          "data": {
            "text/plain": [
              "array(['ΑΜΠΕΛΟΚΗΠΟΙ', 'ΕΜΠΟΡΙΚΟ ΤΡΙΓΩΝΟ-ΠΛΑΚΑ', 'ΚΕΡΑΜΕΙΚΟΣ',\n",
              "       'ΑΓΙΟΣ ΝΙΚΟΛΑΟΣ', 'ΣΤΑΔΙΟ', 'ΑΓΙΟΣ ΚΩΝΣΤΑΝΤΙΝΟΣ-ΠΛΑΤΕΙΑ ΒΑΘΗΣ',\n",
              "       'ΝΕΑ ΚΥΨΕΛΗ', 'ΚΟΛΩΝΑΚΙ', 'ΠΑΓΚΡΑΤΙ', 'ΜΟΥΣΕΙΟ-ΕΞΑΡΧΕΙΑ-ΝΕΑΠΟΛΗ',\n",
              "       'ΑΚΡΟΠΟΛΗ', 'ΠΑΤΗΣΙΑ', 'ΓΚΑΖΙ', 'ΑΝΩ ΠΑΤΗΣΙΑ', 'ΠΕΤΡΑΛΩΝΑ',\n",
              "       'ΝΙΡΒΑΝΑ', 'ΠΛΑΤΕΙΑ ΑΜΕΡΙΚΗΣ', 'ΠΛΑΤΕΙΑ ΑΤΤΙΚΗΣ', 'ΘΗΣΕΙΟ',\n",
              "       'ΚΟΥΚΑΚΙ-ΜΑΚΡΥΓΙΑΝΝΗ', 'ΠΕΔΙΟ ΑΡΕΩΣ', 'ΙΛΙΣΙΑ', 'ΚΥΨΕΛΗ',\n",
              "       'ΑΝΩ ΚΥΨΕΛΗ', 'ΓΟΥΒΑ', '1Ο ΝΕΚΡΟΤΑΦΕΙΟ', 'ΠΡΟΜΠΟΝΑ', 'ΓΟΥΔΙ',\n",
              "       'ΑΚΑΔΗΜΙΑ ΠΛΑΤΩΝΟΣ', 'ΛΥΚΑΒΗΤΤΟΣ', 'ΝΕΟΣ ΚΟΣΜΟΣ', 'ΚΟΛΩΝΟΣ',\n",
              "       'ΖΑΠΠΕΙΟ', 'ΣΕΠΟΛΙΑ', 'ΒΟΤΑΝΙΚΟΣ', 'ΓΚΥΖΗ', 'ΑΓΙΟΣ ΕΛΕΥΘΕΡΙΟΣ',\n",
              "       'ΠΕΝΤΑΓΩΝΟ', 'ΠΟΛΥΓΩΝΟ', 'ΣΤΑΘΜΟΣ ΛΑΡΙΣΗΣ', 'ΕΛΛΗΝΟΡΩΣΩΝ',\n",
              "       'ΚΟΛΟΚΥΝΘΟΥ', 'ΡΙΖΟΥΠΟΛΗ', 'ΡΗΓΙΛΛΗΣ'], dtype=object)"
            ]
          },
          "execution_count": 9,
          "metadata": {},
          "output_type": "execute_result"
        }
      ],
      "source": [
        "dataset['neighbourhood'].unique() # names of unique neighbourhoods"
      ]
    },
    {
      "cell_type": "code",
      "execution_count": 10,
      "metadata": {
        "colab": {
          "base_uri": "https://localhost:8080/"
        },
        "id": "ffks3SRvNYsl",
        "outputId": "d13293b3-a58c-43b5-d6c6-03cda895581b"
      },
      "outputs": [
        {
          "data": {
            "text/plain": [
              "neighbourhood\n",
              "ΕΜΠΟΡΙΚΟ ΤΡΙΓΩΝΟ-ΠΛΑΚΑ              2416\n",
              "ΚΟΥΚΑΚΙ-ΜΑΚΡΥΓΙΑΝΝΗ                 1122\n",
              "ΝΕΟΣ ΚΟΣΜΟΣ                          980\n",
              "ΜΟΥΣΕΙΟ-ΕΞΑΡΧΕΙΑ-ΝΕΑΠΟΛΗ             979\n",
              "ΑΓΙΟΣ ΚΩΝΣΤΑΝΤΙΝΟΣ-ΠΛΑΤΕΙΑ ΒΑΘΗΣ     817\n",
              "ΠΛΑΤΕΙΑ ΑΤΤΙΚΗΣ                      583\n",
              "ΠΑΓΚΡΑΤΙ                             511\n",
              "ΑΜΠΕΛΟΚΗΠΟΙ                          452\n",
              "ΚΟΛΩΝΑΚΙ                             425\n",
              "ΑΚΡΟΠΟΛΗ                             386\n",
              "ΘΗΣΕΙΟ                               386\n",
              "ΠΕΤΡΑΛΩΝΑ                            352\n",
              "ΚΕΡΑΜΕΙΚΟΣ                           343\n",
              "ΚΥΨΕΛΗ                               271\n",
              "ΣΤΑΔΙΟ                               252\n",
              "ΓΟΥΔΙ                                230\n",
              "ΙΛΙΣΙΑ                               216\n",
              "ΠΛΑΤΕΙΑ ΑΜΕΡΙΚΗΣ                     180\n",
              "ΝΙΡΒΑΝΑ                              174\n",
              "ΠΑΤΗΣΙΑ                              166\n",
              "ΛΥΚΑΒΗΤΤΟΣ                           162\n",
              "ΖΑΠΠΕΙΟ                              161\n",
              "ΑΝΩ ΚΥΨΕΛΗ                           119\n",
              "ΓΚΥΖΗ                                118\n",
              "ΠΕΔΙΟ ΑΡΕΩΣ                          109\n",
              "ΚΟΛΩΝΟΣ                              108\n",
              "ΓΚΑΖΙ                                106\n",
              "ΑΓΙΟΣ ΝΙΚΟΛΑΟΣ                        99\n",
              "ΣΤΑΘΜΟΣ ΛΑΡΙΣΗΣ                       85\n",
              "ΒΟΤΑΝΙΚΟΣ                             80\n",
              "ΑΚΑΔΗΜΙΑ ΠΛΑΤΩΝΟΣ                     76\n",
              "ΓΟΥΒΑ                                 75\n",
              "ΕΛΛΗΝΟΡΩΣΩΝ                           73\n",
              "ΑΝΩ ΠΑΤΗΣΙΑ                           64\n",
              "ΝΕΑ ΚΥΨΕΛΗ                            64\n",
              "1Ο ΝΕΚΡΟΤΑΦΕΙΟ                        55\n",
              "ΣΕΠΟΛΙΑ                               45\n",
              "ΑΓΙΟΣ ΕΛΕΥΘΕΡΙΟΣ                      38\n",
              "ΠΟΛΥΓΩΝΟ                              29\n",
              "ΚΟΛΟΚΥΝΘΟΥ                            16\n",
              "ΡΙΖΟΥΠΟΛΗ                             13\n",
              "ΠΡΟΜΠΟΝΑ                              12\n",
              "ΡΗΓΙΛΛΗΣ                               5\n",
              "ΠΕΝΤΑΓΩΝΟ                              2\n",
              "Name: count, dtype: int64"
            ]
          },
          "execution_count": 10,
          "metadata": {},
          "output_type": "execute_result"
        }
      ],
      "source": [
        "dataset['neighbourhood'].value_counts() #final step show the listings in descending order"
      ]
    },
    {
      "cell_type": "markdown",
      "metadata": {
        "id": "Wv8GXmaYd-XO"
      },
      "source": [
        "we observe that neighbourhood ΡΟΥΦ does not appear because it doesnt have a listing"
      ]
    },
    {
      "cell_type": "markdown",
      "metadata": {
        "id": "dLeKxEKpNgSu"
      },
      "source": [
        "## Neighbourhood Prices in Descending Order\n",
        "\n",
        "Create a table with the prices per neighbourhood. The prices information should contain:\n",
        "\n",
        "* median price per neighbourhood\n",
        "\n",
        "* mean price per neighbourhood\n",
        "\n",
        "* standard deviation per neighbourhood\n",
        "\n",
        "* number of listings per neighbourhood.\n",
        "\n",
        "The contents of the table should be in descending median prices"
      ]
    },
    {
      "cell_type": "code",
      "execution_count": 11,
      "metadata": {
        "id": "AvE21GlRNlCZ"
      },
      "outputs": [],
      "source": [
        "grouped = dataset.groupby('neighbourhood').agg({\n",
        "    'price': ['median', 'mean', 'std', 'count']\n",
        "}).reset_index()\n",
        "\n",
        "# Rename the columns\n",
        "grouped.columns = ['Neighborhood', 'Median Price', 'Mean Price', 'Std Deviation', 'Number of Listings']\n",
        "\n",
        "# Sort the table by descending median prices\n",
        "grouped = grouped.sort_values(by='Median Price', ascending=False)"
      ]
    },
    {
      "cell_type": "code",
      "execution_count": 12,
      "metadata": {
        "colab": {
          "base_uri": "https://localhost:8080/",
          "height": 1000
        },
        "id": "UQ7Put9fN3M7",
        "outputId": "2b7ed656-d5f5-436b-82bf-d30f7ddaf888"
      },
      "outputs": [
        {
          "data": {
            "text/html": [
              "<div>\n",
              "<style scoped>\n",
              "    .dataframe tbody tr th:only-of-type {\n",
              "        vertical-align: middle;\n",
              "    }\n",
              "\n",
              "    .dataframe tbody tr th {\n",
              "        vertical-align: top;\n",
              "    }\n",
              "\n",
              "    .dataframe thead th {\n",
              "        text-align: right;\n",
              "    }\n",
              "</style>\n",
              "<table border=\"1\" class=\"dataframe\">\n",
              "  <thead>\n",
              "    <tr style=\"text-align: right;\">\n",
              "      <th></th>\n",
              "      <th>Neighborhood</th>\n",
              "      <th>Median Price</th>\n",
              "      <th>Mean Price</th>\n",
              "      <th>Std Deviation</th>\n",
              "      <th>Number of Listings</th>\n",
              "    </tr>\n",
              "  </thead>\n",
              "  <tbody>\n",
              "    <tr>\n",
              "      <th>39</th>\n",
              "      <td>ΡΗΓΙΛΛΗΣ</td>\n",
              "      <td>120.0</td>\n",
              "      <td>367.800000</td>\n",
              "      <td>578.622675</td>\n",
              "      <td>5</td>\n",
              "    </tr>\n",
              "    <tr>\n",
              "      <th>16</th>\n",
              "      <td>ΖΑΠΠΕΙΟ</td>\n",
              "      <td>114.0</td>\n",
              "      <td>224.068323</td>\n",
              "      <td>641.163173</td>\n",
              "      <td>161</td>\n",
              "    </tr>\n",
              "    <tr>\n",
              "      <th>15</th>\n",
              "      <td>ΕΜΠΟΡΙΚΟ ΤΡΙΓΩΝΟ-ΠΛΑΚΑ</td>\n",
              "      <td>104.0</td>\n",
              "      <td>140.650662</td>\n",
              "      <td>229.183015</td>\n",
              "      <td>2416</td>\n",
              "    </tr>\n",
              "    <tr>\n",
              "      <th>5</th>\n",
              "      <td>ΑΚΡΟΠΟΛΗ</td>\n",
              "      <td>100.0</td>\n",
              "      <td>195.344560</td>\n",
              "      <td>703.321565</td>\n",
              "      <td>386</td>\n",
              "    </tr>\n",
              "    <tr>\n",
              "      <th>21</th>\n",
              "      <td>ΚΟΛΩΝΑΚΙ</td>\n",
              "      <td>100.0</td>\n",
              "      <td>128.595294</td>\n",
              "      <td>104.431349</td>\n",
              "      <td>425</td>\n",
              "    </tr>\n",
              "    <tr>\n",
              "      <th>23</th>\n",
              "      <td>ΚΟΥΚΑΚΙ-ΜΑΚΡΥΓΙΑΝΝΗ</td>\n",
              "      <td>90.5</td>\n",
              "      <td>120.284314</td>\n",
              "      <td>104.613533</td>\n",
              "      <td>1122</td>\n",
              "    </tr>\n",
              "    <tr>\n",
              "      <th>17</th>\n",
              "      <td>ΘΗΣΕΙΟ</td>\n",
              "      <td>90.0</td>\n",
              "      <td>126.492228</td>\n",
              "      <td>124.176775</td>\n",
              "      <td>386</td>\n",
              "    </tr>\n",
              "    <tr>\n",
              "      <th>19</th>\n",
              "      <td>ΚΕΡΑΜΕΙΚΟΣ</td>\n",
              "      <td>89.0</td>\n",
              "      <td>123.883382</td>\n",
              "      <td>136.367487</td>\n",
              "      <td>343</td>\n",
              "    </tr>\n",
              "    <tr>\n",
              "      <th>25</th>\n",
              "      <td>ΛΥΚΑΒΗΤΤΟΣ</td>\n",
              "      <td>75.0</td>\n",
              "      <td>104.561728</td>\n",
              "      <td>87.859850</td>\n",
              "      <td>162</td>\n",
              "    </tr>\n",
              "    <tr>\n",
              "      <th>10</th>\n",
              "      <td>ΓΚΑΖΙ</td>\n",
              "      <td>70.5</td>\n",
              "      <td>95.792453</td>\n",
              "      <td>75.355882</td>\n",
              "      <td>106</td>\n",
              "    </tr>\n",
              "    <tr>\n",
              "      <th>42</th>\n",
              "      <td>ΣΤΑΔΙΟ</td>\n",
              "      <td>70.0</td>\n",
              "      <td>121.515873</td>\n",
              "      <td>509.991840</td>\n",
              "      <td>252</td>\n",
              "    </tr>\n",
              "    <tr>\n",
              "      <th>18</th>\n",
              "      <td>ΙΛΙΣΙΑ</td>\n",
              "      <td>70.0</td>\n",
              "      <td>87.189815</td>\n",
              "      <td>53.519013</td>\n",
              "      <td>216</td>\n",
              "    </tr>\n",
              "    <tr>\n",
              "      <th>26</th>\n",
              "      <td>ΜΟΥΣΕΙΟ-ΕΞΑΡΧΕΙΑ-ΝΕΑΠΟΛΗ</td>\n",
              "      <td>67.0</td>\n",
              "      <td>169.259448</td>\n",
              "      <td>2563.621548</td>\n",
              "      <td>979</td>\n",
              "    </tr>\n",
              "    <tr>\n",
              "      <th>28</th>\n",
              "      <td>ΝΕΟΣ ΚΟΣΜΟΣ</td>\n",
              "      <td>67.0</td>\n",
              "      <td>94.586735</td>\n",
              "      <td>127.407374</td>\n",
              "      <td>980</td>\n",
              "    </tr>\n",
              "    <tr>\n",
              "      <th>30</th>\n",
              "      <td>ΠΑΓΚΡΑΤΙ</td>\n",
              "      <td>67.0</td>\n",
              "      <td>84.062622</td>\n",
              "      <td>92.218241</td>\n",
              "      <td>511</td>\n",
              "    </tr>\n",
              "    <tr>\n",
              "      <th>34</th>\n",
              "      <td>ΠΕΤΡΑΛΩΝΑ</td>\n",
              "      <td>66.5</td>\n",
              "      <td>104.701705</td>\n",
              "      <td>285.518630</td>\n",
              "      <td>352</td>\n",
              "    </tr>\n",
              "    <tr>\n",
              "      <th>0</th>\n",
              "      <td>1Ο ΝΕΚΡΟΤΑΦΕΙΟ</td>\n",
              "      <td>61.0</td>\n",
              "      <td>98.818182</td>\n",
              "      <td>92.281191</td>\n",
              "      <td>55</td>\n",
              "    </tr>\n",
              "    <tr>\n",
              "      <th>14</th>\n",
              "      <td>ΕΛΛΗΝΟΡΩΣΩΝ</td>\n",
              "      <td>60.0</td>\n",
              "      <td>81.589041</td>\n",
              "      <td>72.727390</td>\n",
              "      <td>73</td>\n",
              "    </tr>\n",
              "    <tr>\n",
              "      <th>9</th>\n",
              "      <td>ΒΟΤΑΝΙΚΟΣ</td>\n",
              "      <td>60.0</td>\n",
              "      <td>78.200000</td>\n",
              "      <td>48.042281</td>\n",
              "      <td>80</td>\n",
              "    </tr>\n",
              "    <tr>\n",
              "      <th>12</th>\n",
              "      <td>ΓΟΥΒΑ</td>\n",
              "      <td>58.0</td>\n",
              "      <td>72.240000</td>\n",
              "      <td>83.506245</td>\n",
              "      <td>75</td>\n",
              "    </tr>\n",
              "    <tr>\n",
              "      <th>6</th>\n",
              "      <td>ΑΜΠΕΛΟΚΗΠΟΙ</td>\n",
              "      <td>58.0</td>\n",
              "      <td>66.915929</td>\n",
              "      <td>39.297399</td>\n",
              "      <td>452</td>\n",
              "    </tr>\n",
              "    <tr>\n",
              "      <th>2</th>\n",
              "      <td>ΑΓΙΟΣ ΚΩΝΣΤΑΝΤΙΝΟΣ-ΠΛΑΤΕΙΑ ΒΑΘΗΣ</td>\n",
              "      <td>58.0</td>\n",
              "      <td>78.155447</td>\n",
              "      <td>73.453460</td>\n",
              "      <td>817</td>\n",
              "    </tr>\n",
              "    <tr>\n",
              "      <th>13</th>\n",
              "      <td>ΓΟΥΔΙ</td>\n",
              "      <td>58.0</td>\n",
              "      <td>68.952174</td>\n",
              "      <td>37.039603</td>\n",
              "      <td>230</td>\n",
              "    </tr>\n",
              "    <tr>\n",
              "      <th>38</th>\n",
              "      <td>ΠΡΟΜΠΟΝΑ</td>\n",
              "      <td>57.0</td>\n",
              "      <td>60.833333</td>\n",
              "      <td>27.511430</td>\n",
              "      <td>12</td>\n",
              "    </tr>\n",
              "    <tr>\n",
              "      <th>32</th>\n",
              "      <td>ΠΕΔΙΟ ΑΡΕΩΣ</td>\n",
              "      <td>56.0</td>\n",
              "      <td>148.137615</td>\n",
              "      <td>761.697707</td>\n",
              "      <td>109</td>\n",
              "    </tr>\n",
              "    <tr>\n",
              "      <th>41</th>\n",
              "      <td>ΣΕΠΟΛΙΑ</td>\n",
              "      <td>55.0</td>\n",
              "      <td>77.422222</td>\n",
              "      <td>150.067332</td>\n",
              "      <td>45</td>\n",
              "    </tr>\n",
              "    <tr>\n",
              "      <th>27</th>\n",
              "      <td>ΝΕΑ ΚΥΨΕΛΗ</td>\n",
              "      <td>50.0</td>\n",
              "      <td>56.453125</td>\n",
              "      <td>28.871873</td>\n",
              "      <td>64</td>\n",
              "    </tr>\n",
              "    <tr>\n",
              "      <th>43</th>\n",
              "      <td>ΣΤΑΘΜΟΣ ΛΑΡΙΣΗΣ</td>\n",
              "      <td>50.0</td>\n",
              "      <td>61.564706</td>\n",
              "      <td>58.615870</td>\n",
              "      <td>85</td>\n",
              "    </tr>\n",
              "    <tr>\n",
              "      <th>24</th>\n",
              "      <td>ΚΥΨΕΛΗ</td>\n",
              "      <td>50.0</td>\n",
              "      <td>62.656827</td>\n",
              "      <td>58.884856</td>\n",
              "      <td>271</td>\n",
              "    </tr>\n",
              "    <tr>\n",
              "      <th>4</th>\n",
              "      <td>ΑΚΑΔΗΜΙΑ ΠΛΑΤΩΝΟΣ</td>\n",
              "      <td>50.0</td>\n",
              "      <td>79.934211</td>\n",
              "      <td>163.926596</td>\n",
              "      <td>76</td>\n",
              "    </tr>\n",
              "    <tr>\n",
              "      <th>36</th>\n",
              "      <td>ΠΛΑΤΕΙΑ ΑΤΤΙΚΗΣ</td>\n",
              "      <td>48.0</td>\n",
              "      <td>64.116638</td>\n",
              "      <td>74.498484</td>\n",
              "      <td>583</td>\n",
              "    </tr>\n",
              "    <tr>\n",
              "      <th>8</th>\n",
              "      <td>ΑΝΩ ΠΑΤΗΣΙΑ</td>\n",
              "      <td>48.0</td>\n",
              "      <td>56.078125</td>\n",
              "      <td>29.493774</td>\n",
              "      <td>64</td>\n",
              "    </tr>\n",
              "    <tr>\n",
              "      <th>22</th>\n",
              "      <td>ΚΟΛΩΝΟΣ</td>\n",
              "      <td>47.0</td>\n",
              "      <td>51.888889</td>\n",
              "      <td>21.263955</td>\n",
              "      <td>108</td>\n",
              "    </tr>\n",
              "    <tr>\n",
              "      <th>33</th>\n",
              "      <td>ΠΕΝΤΑΓΩΝΟ</td>\n",
              "      <td>46.0</td>\n",
              "      <td>46.000000</td>\n",
              "      <td>1.414214</td>\n",
              "      <td>2</td>\n",
              "    </tr>\n",
              "    <tr>\n",
              "      <th>31</th>\n",
              "      <td>ΠΑΤΗΣΙΑ</td>\n",
              "      <td>45.0</td>\n",
              "      <td>60.524096</td>\n",
              "      <td>117.601314</td>\n",
              "      <td>166</td>\n",
              "    </tr>\n",
              "    <tr>\n",
              "      <th>37</th>\n",
              "      <td>ΠΟΛΥΓΩΝΟ</td>\n",
              "      <td>45.0</td>\n",
              "      <td>54.310345</td>\n",
              "      <td>26.467100</td>\n",
              "      <td>29</td>\n",
              "    </tr>\n",
              "    <tr>\n",
              "      <th>3</th>\n",
              "      <td>ΑΓΙΟΣ ΝΙΚΟΛΑΟΣ</td>\n",
              "      <td>45.0</td>\n",
              "      <td>53.202020</td>\n",
              "      <td>32.861484</td>\n",
              "      <td>99</td>\n",
              "    </tr>\n",
              "    <tr>\n",
              "      <th>11</th>\n",
              "      <td>ΓΚΥΖΗ</td>\n",
              "      <td>44.5</td>\n",
              "      <td>52.033898</td>\n",
              "      <td>42.301913</td>\n",
              "      <td>118</td>\n",
              "    </tr>\n",
              "    <tr>\n",
              "      <th>35</th>\n",
              "      <td>ΠΛΑΤΕΙΑ ΑΜΕΡΙΚΗΣ</td>\n",
              "      <td>44.0</td>\n",
              "      <td>52.500000</td>\n",
              "      <td>37.479603</td>\n",
              "      <td>180</td>\n",
              "    </tr>\n",
              "    <tr>\n",
              "      <th>40</th>\n",
              "      <td>ΡΙΖΟΥΠΟΛΗ</td>\n",
              "      <td>44.0</td>\n",
              "      <td>52.538462</td>\n",
              "      <td>22.096815</td>\n",
              "      <td>13</td>\n",
              "    </tr>\n",
              "    <tr>\n",
              "      <th>20</th>\n",
              "      <td>ΚΟΛΟΚΥΝΘΟΥ</td>\n",
              "      <td>43.0</td>\n",
              "      <td>43.937500</td>\n",
              "      <td>9.532182</td>\n",
              "      <td>16</td>\n",
              "    </tr>\n",
              "    <tr>\n",
              "      <th>29</th>\n",
              "      <td>ΝΙΡΒΑΝΑ</td>\n",
              "      <td>42.0</td>\n",
              "      <td>53.045977</td>\n",
              "      <td>39.449070</td>\n",
              "      <td>174</td>\n",
              "    </tr>\n",
              "    <tr>\n",
              "      <th>7</th>\n",
              "      <td>ΑΝΩ ΚΥΨΕΛΗ</td>\n",
              "      <td>42.0</td>\n",
              "      <td>45.932773</td>\n",
              "      <td>23.316078</td>\n",
              "      <td>119</td>\n",
              "    </tr>\n",
              "    <tr>\n",
              "      <th>1</th>\n",
              "      <td>ΑΓΙΟΣ ΕΛΕΥΘΕΡΙΟΣ</td>\n",
              "      <td>41.5</td>\n",
              "      <td>43.736842</td>\n",
              "      <td>17.408734</td>\n",
              "      <td>38</td>\n",
              "    </tr>\n",
              "  </tbody>\n",
              "</table>\n",
              "</div>"
            ],
            "text/plain": [
              "                        Neighborhood  Median Price  Mean Price  Std Deviation  \\\n",
              "39                          ΡΗΓΙΛΛΗΣ         120.0  367.800000     578.622675   \n",
              "16                           ΖΑΠΠΕΙΟ         114.0  224.068323     641.163173   \n",
              "15            ΕΜΠΟΡΙΚΟ ΤΡΙΓΩΝΟ-ΠΛΑΚΑ         104.0  140.650662     229.183015   \n",
              "5                           ΑΚΡΟΠΟΛΗ         100.0  195.344560     703.321565   \n",
              "21                          ΚΟΛΩΝΑΚΙ         100.0  128.595294     104.431349   \n",
              "23               ΚΟΥΚΑΚΙ-ΜΑΚΡΥΓΙΑΝΝΗ          90.5  120.284314     104.613533   \n",
              "17                            ΘΗΣΕΙΟ          90.0  126.492228     124.176775   \n",
              "19                        ΚΕΡΑΜΕΙΚΟΣ          89.0  123.883382     136.367487   \n",
              "25                        ΛΥΚΑΒΗΤΤΟΣ          75.0  104.561728      87.859850   \n",
              "10                             ΓΚΑΖΙ          70.5   95.792453      75.355882   \n",
              "42                            ΣΤΑΔΙΟ          70.0  121.515873     509.991840   \n",
              "18                            ΙΛΙΣΙΑ          70.0   87.189815      53.519013   \n",
              "26          ΜΟΥΣΕΙΟ-ΕΞΑΡΧΕΙΑ-ΝΕΑΠΟΛΗ          67.0  169.259448    2563.621548   \n",
              "28                       ΝΕΟΣ ΚΟΣΜΟΣ          67.0   94.586735     127.407374   \n",
              "30                          ΠΑΓΚΡΑΤΙ          67.0   84.062622      92.218241   \n",
              "34                         ΠΕΤΡΑΛΩΝΑ          66.5  104.701705     285.518630   \n",
              "0                     1Ο ΝΕΚΡΟΤΑΦΕΙΟ          61.0   98.818182      92.281191   \n",
              "14                       ΕΛΛΗΝΟΡΩΣΩΝ          60.0   81.589041      72.727390   \n",
              "9                          ΒΟΤΑΝΙΚΟΣ          60.0   78.200000      48.042281   \n",
              "12                             ΓΟΥΒΑ          58.0   72.240000      83.506245   \n",
              "6                        ΑΜΠΕΛΟΚΗΠΟΙ          58.0   66.915929      39.297399   \n",
              "2   ΑΓΙΟΣ ΚΩΝΣΤΑΝΤΙΝΟΣ-ΠΛΑΤΕΙΑ ΒΑΘΗΣ          58.0   78.155447      73.453460   \n",
              "13                             ΓΟΥΔΙ          58.0   68.952174      37.039603   \n",
              "38                          ΠΡΟΜΠΟΝΑ          57.0   60.833333      27.511430   \n",
              "32                       ΠΕΔΙΟ ΑΡΕΩΣ          56.0  148.137615     761.697707   \n",
              "41                           ΣΕΠΟΛΙΑ          55.0   77.422222     150.067332   \n",
              "27                        ΝΕΑ ΚΥΨΕΛΗ          50.0   56.453125      28.871873   \n",
              "43                   ΣΤΑΘΜΟΣ ΛΑΡΙΣΗΣ          50.0   61.564706      58.615870   \n",
              "24                            ΚΥΨΕΛΗ          50.0   62.656827      58.884856   \n",
              "4                  ΑΚΑΔΗΜΙΑ ΠΛΑΤΩΝΟΣ          50.0   79.934211     163.926596   \n",
              "36                   ΠΛΑΤΕΙΑ ΑΤΤΙΚΗΣ          48.0   64.116638      74.498484   \n",
              "8                        ΑΝΩ ΠΑΤΗΣΙΑ          48.0   56.078125      29.493774   \n",
              "22                           ΚΟΛΩΝΟΣ          47.0   51.888889      21.263955   \n",
              "33                         ΠΕΝΤΑΓΩΝΟ          46.0   46.000000       1.414214   \n",
              "31                           ΠΑΤΗΣΙΑ          45.0   60.524096     117.601314   \n",
              "37                          ΠΟΛΥΓΩΝΟ          45.0   54.310345      26.467100   \n",
              "3                     ΑΓΙΟΣ ΝΙΚΟΛΑΟΣ          45.0   53.202020      32.861484   \n",
              "11                             ΓΚΥΖΗ          44.5   52.033898      42.301913   \n",
              "35                  ΠΛΑΤΕΙΑ ΑΜΕΡΙΚΗΣ          44.0   52.500000      37.479603   \n",
              "40                         ΡΙΖΟΥΠΟΛΗ          44.0   52.538462      22.096815   \n",
              "20                        ΚΟΛΟΚΥΝΘΟΥ          43.0   43.937500       9.532182   \n",
              "29                           ΝΙΡΒΑΝΑ          42.0   53.045977      39.449070   \n",
              "7                         ΑΝΩ ΚΥΨΕΛΗ          42.0   45.932773      23.316078   \n",
              "1                   ΑΓΙΟΣ ΕΛΕΥΘΕΡΙΟΣ          41.5   43.736842      17.408734   \n",
              "\n",
              "    Number of Listings  \n",
              "39                   5  \n",
              "16                 161  \n",
              "15                2416  \n",
              "5                  386  \n",
              "21                 425  \n",
              "23                1122  \n",
              "17                 386  \n",
              "19                 343  \n",
              "25                 162  \n",
              "10                 106  \n",
              "42                 252  \n",
              "18                 216  \n",
              "26                 979  \n",
              "28                 980  \n",
              "30                 511  \n",
              "34                 352  \n",
              "0                   55  \n",
              "14                  73  \n",
              "9                   80  \n",
              "12                  75  \n",
              "6                  452  \n",
              "2                  817  \n",
              "13                 230  \n",
              "38                  12  \n",
              "32                 109  \n",
              "41                  45  \n",
              "27                  64  \n",
              "43                  85  \n",
              "24                 271  \n",
              "4                   76  \n",
              "36                 583  \n",
              "8                   64  \n",
              "22                 108  \n",
              "33                   2  \n",
              "31                 166  \n",
              "37                  29  \n",
              "3                   99  \n",
              "11                 118  \n",
              "35                 180  \n",
              "40                  13  \n",
              "20                  16  \n",
              "29                 174  \n",
              "7                  119  \n",
              "1                   38  "
            ]
          },
          "execution_count": 12,
          "metadata": {},
          "output_type": "execute_result"
        }
      ],
      "source": [
        "grouped"
      ]
    },
    {
      "cell_type": "markdown",
      "metadata": {
        "id": "TU5cHhJMOFHx"
      },
      "source": [
        "## Availability per Day\n",
        "\n",
        "Create a plot with the number of listings available per day, on the $y$ axis, and the date, on the $x$ axis."
      ]
    },
    {
      "cell_type": "code",
      "execution_count": 13,
      "metadata": {
        "colab": {
          "base_uri": "https://localhost:8080/",
          "height": 461
        },
        "id": "zQpmJc7GOOzZ",
        "outputId": "58d3be96-85fe-4be5-cd87-9f53596c1326"
      },
      "outputs": [
        {
          "data": {
            "image/png": "[encoded data removed]",
            "text/plain": [
              "<Figure size 2000x600 with 1 Axes>"
            ]
          },
          "metadata": {},
          "output_type": "display_data"
        }
      ],
      "source": [
        "df = pd.read_csv('calendar.csv')\n",
        "df['date'] = pd.to_datetime(df['date'])\n",
        "\n",
        "#replace t (true) for 1 and f (false) for 0\n",
        "df['available'] = df['available'].map({'t': 1, 'f': 0})\n",
        "\n",
        "# Group the data by date and calculate the sum of availability per day\n",
        "availability_per_day = df.groupby('date')['available'].sum()\n",
        "\n",
        "plt.figure(figsize=(20, 6))\n",
        "plt.bar(availability_per_day.index, availability_per_day)\n",
        "plt.title('Number of Listings Available per Day')\n",
        "plt.xlabel('Date')\n",
        "plt.ylabel('Number of Listings Available')\n",
        "\n",
        "#evenly spreads dates in 10 parts\n",
        "num_x_ticks = 10\n",
        "x_ticks = availability_per_day.index[::(len(availability_per_day) // num_x_ticks)]\n",
        "plt.xticks(x_ticks, rotation=45)\n",
        "\n",
        "plt.tight_layout()\n",
        "plt.show()"
      ]
    },
    {
      "cell_type": "markdown",
      "metadata": {
        "id": "ftu6pgKKRWf4"
      },
      "source": [
        "## Reviews, Occupacy per Listing, Average Income\n",
        "\n",
        "Create a histogram showing the number of reviews per listing. The histogram should bin the number of reviews, from the smallest amount of reviews in a listing, to the maximum number of reviews in a listing rounded up to the closest hundred.\n",
        "\n",
        "Once you have done that, calculate the average occupacy per listing per month. To calculate that, find the average reviews per month and assume that half of the bookings result in reviews.\n",
        "\n",
        "Then, assuming that each booking is for a three nights stay, calculate the average income per month, using the average price charged throughout all listings."
      ]
    },
    {
      "cell_type": "code",
      "execution_count": 56,
      "metadata": {
        "id": "G8IbuUt_QlOn"
      },
      "outputs": [],
      "source": [
        "df = pd.read_csv('listings-2.csv') # step 1 load dataset"
      ]
    },
    {
      "cell_type": "code",
      "execution_count": 57,
      "metadata": {
        "colab": {
          "base_uri": "https://localhost:8080/",
          "height": 564
        },
        "id": "hUv7aHD-QSDM",
        "outputId": "fe5bb0c2-25ff-41cb-eb2f-44dc3cdf97e5"
      },
      "outputs": [
        {
          "data": {
            "image/png": "[encoded data removed]",
            "text/plain": [
              "<Figure size 1000x600 with 1 Axes>"
            ]
          },
          "metadata": {},
          "output_type": "display_data"
        }
      ],
      "source": [
        "df = pd.DataFrame(df)\n",
        "\n",
        "# Sort the reviews in ascending order\n",
        "df = df.sort_values(by='number_of_reviews')\n",
        "max_reviews = math.ceil(df['number_of_reviews'].max() / 100) * 100\n",
        "\n",
        "# Create a histogram\n",
        "plt.figure(figsize=(10, 6))\n",
        "plt.hist(df['number_of_reviews'], bins=range(0, max_reviews + 101, 100), edgecolor='black', alpha=0.7)\n",
        "plt.title('Distribution of Reviews per Listing (Ascending)')\n",
        "plt.xlabel('Number of Reviews')\n",
        "plt.ylabel('Number of Listings')\n",
        "plt.grid(True)\n",
        "\n",
        "# Show the plot\n",
        "plt.show()"
      ]
    },
    {
      "cell_type": "markdown",
      "metadata": {
        "id": "ylW4pvajRXMv"
      },
      "source": [
        "**Plot in logarithmic scale**"
      ]
    },
    {
      "cell_type": "code",
      "execution_count": 58,
      "metadata": {
        "colab": {
          "base_uri": "https://localhost:8080/",
          "height": 564
        },
        "id": "P7uEvgwiRM1O",
        "outputId": "1f5417fa-5192-4119-b3b2-c7caa8b341e3"
      },
      "outputs": [
        {
          "data": {
            "image/png": "[encoded data removed]",
            "text/plain": [
              "<Figure size 1000x600 with 1 Axes>"
            ]
          },
          "metadata": {},
          "output_type": "display_data"
        }
      ],
      "source": [
        "plt.figure(figsize=(10, 6))\n",
        "plt.hist(df['number_of_reviews'], bins=range(0, max_reviews + 101, 100), edgecolor='black', alpha=0.7)\n",
        "plt.title('Distribution of Reviews per Listing (Ascending)')\n",
        "plt.xlabel('Number of Reviews')\n",
        "plt.ylabel('Number of Listings')\n",
        "plt.grid(True)\n",
        "plt.yscale('log')\n",
        "# Show the plot\n",
        "plt.show()"
      ]
    },
    {
      "cell_type": "code",
      "execution_count": 59,
      "metadata": {
        "colab": {
          "base_uri": "https://localhost:8080/"
        },
        "id": "KtJc7ETkvXIt",
        "outputId": "2b67676e-a9f4-4574-808b-cc2eeec3286a"
      },
      "outputs": [
        {
          "data": {
            "text/plain": [
              "12954      NaN\n",
              "3679       NaN\n",
              "3684       NaN\n",
              "3687       NaN\n",
              "10871      NaN\n",
              "         ...  \n",
              "264      13.92\n",
              "856      17.72\n",
              "771      17.62\n",
              "134      15.26\n",
              "96       13.80\n",
              "Name: occ_per_listing, Length: 12955, dtype: float64"
            ]
          },
          "execution_count": 59,
          "metadata": {},
          "output_type": "execute_result"
        }
      ],
      "source": [
        "\n",
        "df['occ_per_listing'] = df['reviews_per_month']*2\n",
        "avg3 = df['occ_per_listing']\n",
        "avg2 = df['reviews_per_month']*2\n",
        "\n",
        "avg3"
      ]
    },
    {
      "cell_type": "code",
      "execution_count": 19,
      "metadata": {
        "colab": {
          "base_uri": "https://localhost:8080/"
        },
        "id": "yWYg3HyQSmIo",
        "outputId": "587deed3-aa6f-446a-b2dd-11ef5dbcffa0"
      },
      "outputs": [
        {
          "data": {
            "text/plain": [
              "11430     1.88\n",
              "3039      0.04\n",
              "4875      0.12\n",
              "2609      0.10\n",
              "3064      0.16\n",
              "         ...  \n",
              "264      13.92\n",
              "856      17.72\n",
              "771      17.62\n",
              "134      15.26\n",
              "96       13.80\n",
              "Name: occ_per_listing, Length: 10999, dtype: float64"
            ]
          },
          "execution_count": 19,
          "metadata": {},
          "output_type": "execute_result"
        }
      ],
      "source": [
        "avg3.dropna()"
      ]
    },
    {
      "cell_type": "code",
      "execution_count": 20,
      "metadata": {
        "id": "YpbzrDyr1AS2"
      },
      "outputs": [],
      "source": [
        "df['average_price'] = df['price'].mean()\n",
        "df['avg_income_per_month'] = df['occ_per_listing'] * df['average_price'] * 3"
      ]
    },
    {
      "cell_type": "code",
      "execution_count": 21,
      "metadata": {
        "colab": {
          "base_uri": "https://localhost:8080/"
        },
        "id": "cEFnfGmU75-e",
        "outputId": "5bf1372e-333e-4f47-a54e-27fdef6ffa7b"
      },
      "outputs": [
        {
          "data": {
            "text/plain": [
              "12954            NaN\n",
              "3679             NaN\n",
              "3684             NaN\n",
              "3687             NaN\n",
              "10871            NaN\n",
              "            ...     \n",
              "264      4612.750611\n",
              "856      5871.978507\n",
              "771      5838.840931\n",
              "134      5056.794132\n",
              "96       4572.985519\n",
              "Name: avg_income_per_month, Length: 12955, dtype: float64"
            ]
          },
          "execution_count": 21,
          "metadata": {},
          "output_type": "execute_result"
        }
      ],
      "source": [
        "df['avg_income_per_month']"
      ]
    },
    {
      "cell_type": "code",
      "execution_count": 22,
      "metadata": {
        "colab": {
          "base_uri": "https://localhost:8080/"
        },
        "id": "9ZxAxdMHWOvC",
        "outputId": "61034edd-fad5-4303-f964-7737250252a3"
      },
      "outputs": [
        {
          "data": {
            "text/plain": [
              "1190.1502553966434"
            ]
          },
          "execution_count": 22,
          "metadata": {},
          "output_type": "execute_result"
        }
      ],
      "source": [
        "df['avg_income_per_month'].mean()"
      ]
    },
    {
      "cell_type": "markdown",
      "metadata": {
        "id": "kIfGdK91WT8q"
      },
      "source": [
        "Average income per Month for all the listings"
      ]
    },
    {
      "cell_type": "markdown",
      "metadata": {
        "id": "CfdD3_gaL3BF"
      },
      "source": [
        "## Listings per Room Type\n",
        "\n",
        "Show the number of listings per room type, in absolute numbers, and also in percentages (the percentage of listings for each particular room type). Then, show the number of listings per neighrbourhood and room type."
      ]
    },
    {
      "cell_type": "code",
      "execution_count": 23,
      "metadata": {
        "id": "9hQJFW-DL7-T"
      },
      "outputs": [],
      "source": [
        "dataset = pd.read_csv('listings-2.csv') # step 1 load dataset"
      ]
    },
    {
      "cell_type": "code",
      "execution_count": 24,
      "metadata": {
        "id": "XDuJ5JpVNicu"
      },
      "outputs": [],
      "source": [
        "listings_count = dataset['room_type'].value_counts()"
      ]
    },
    {
      "cell_type": "code",
      "execution_count": 25,
      "metadata": {
        "colab": {
          "base_uri": "https://localhost:8080/"
        },
        "id": "bI599WgENtJP",
        "outputId": "b300adf8-612b-4433-8207-a4181fbe2370"
      },
      "outputs": [
        {
          "data": {
            "text/plain": [
              "room_type\n",
              "Entire home/apt    11652\n",
              "Private room        1113\n",
              "Hotel room           105\n",
              "Shared room           85\n",
              "Name: count, dtype: int64"
            ]
          },
          "execution_count": 25,
          "metadata": {},
          "output_type": "execute_result"
        }
      ],
      "source": [
        "listings_count"
      ]
    },
    {
      "cell_type": "code",
      "execution_count": 26,
      "metadata": {
        "id": "1SsNuxEQNw6D"
      },
      "outputs": [],
      "source": [
        "listings_percentage = (listings_count / len(dataset['room_type'])) * 100"
      ]
    },
    {
      "cell_type": "code",
      "execution_count": 27,
      "metadata": {
        "colab": {
          "base_uri": "https://localhost:8080/"
        },
        "id": "8j8_pW2lN3F0",
        "outputId": "f82e2db4-af47-4bc1-997a-28d3cdfadb20"
      },
      "outputs": [
        {
          "data": {
            "text/plain": [
              "12955"
            ]
          },
          "execution_count": 27,
          "metadata": {},
          "output_type": "execute_result"
        }
      ],
      "source": [
        "len(dataset['room_type'])"
      ]
    },
    {
      "cell_type": "code",
      "execution_count": 28,
      "metadata": {
        "colab": {
          "base_uri": "https://localhost:8080/"
        },
        "id": "nauvhOnwOSO1",
        "outputId": "9611b7f3-394e-4444-bc77-c7d67a50956e"
      },
      "outputs": [
        {
          "data": {
            "text/plain": [
              "room_type\n",
              "Entire home/apt    89.942107\n",
              "Private room        8.591277\n",
              "Hotel room          0.810498\n",
              "Shared room         0.656117\n",
              "Name: count, dtype: float64"
            ]
          },
          "execution_count": 28,
          "metadata": {},
          "output_type": "execute_result"
        }
      ],
      "source": [
        "listings_percentage"
      ]
    },
    {
      "cell_type": "code",
      "execution_count": 29,
      "metadata": {
        "id": "pT2YPna-ObO_"
      },
      "outputs": [],
      "source": [
        "result = pd.DataFrame({'Listings Count': listings_count, 'Percentage': listings_percentage})"
      ]
    },
    {
      "cell_type": "code",
      "execution_count": 30,
      "metadata": {
        "colab": {
          "base_uri": "https://localhost:8080/",
          "height": 173
        },
        "id": "U9tvR8PiOdxO",
        "outputId": "2f5430f7-8e95-4b8a-cade-02311189ad0c"
      },
      "outputs": [
        {
          "data": {
            "text/html": [
              "<div>\n",
              "<style scoped>\n",
              "    .dataframe tbody tr th:only-of-type {\n",
              "        vertical-align: middle;\n",
              "    }\n",
              "\n",
              "    .dataframe tbody tr th {\n",
              "        vertical-align: top;\n",
              "    }\n",
              "\n",
              "    .dataframe thead th {\n",
              "        text-align: right;\n",
              "    }\n",
              "</style>\n",
              "<table border=\"1\" class=\"dataframe\">\n",
              "  <thead>\n",
              "    <tr style=\"text-align: right;\">\n",
              "      <th></th>\n",
              "      <th>Listings Count</th>\n",
              "      <th>Percentage</th>\n",
              "    </tr>\n",
              "    <tr>\n",
              "      <th>room_type</th>\n",
              "      <th></th>\n",
              "      <th></th>\n",
              "    </tr>\n",
              "  </thead>\n",
              "  <tbody>\n",
              "    <tr>\n",
              "      <th>Entire home/apt</th>\n",
              "      <td>11652</td>\n",
              "      <td>89.942107</td>\n",
              "    </tr>\n",
              "    <tr>\n",
              "      <th>Private room</th>\n",
              "      <td>1113</td>\n",
              "      <td>8.591277</td>\n",
              "    </tr>\n",
              "    <tr>\n",
              "      <th>Hotel room</th>\n",
              "      <td>105</td>\n",
              "      <td>0.810498</td>\n",
              "    </tr>\n",
              "    <tr>\n",
              "      <th>Shared room</th>\n",
              "      <td>85</td>\n",
              "      <td>0.656117</td>\n",
              "    </tr>\n",
              "  </tbody>\n",
              "</table>\n",
              "</div>"
            ],
            "text/plain": [
              "                 Listings Count  Percentage\n",
              "room_type                                  \n",
              "Entire home/apt           11652   89.942107\n",
              "Private room               1113    8.591277\n",
              "Hotel room                  105    0.810498\n",
              "Shared room                  85    0.656117"
            ]
          },
          "execution_count": 30,
          "metadata": {},
          "output_type": "execute_result"
        }
      ],
      "source": [
        "result"
      ]
    },
    {
      "cell_type": "markdown",
      "metadata": {
        "id": "f9ngIcTfFD_-"
      },
      "source": [
        "We can clearly see that the majority of Listings are **Entire home/apt**"
      ]
    },
    {
      "cell_type": "code",
      "execution_count": 31,
      "metadata": {
        "id": "zt-mNocaQT1B"
      },
      "outputs": [],
      "source": [
        "listings_count2 = dataset.pivot_table(index='neighbourhood', columns='room_type', values='id', aggfunc='count', fill_value=0)"
      ]
    },
    {
      "cell_type": "code",
      "execution_count": 32,
      "metadata": {
        "colab": {
          "base_uri": "https://localhost:8080/",
          "height": 1000
        },
        "id": "bcZdH63YQnPw",
        "outputId": "21edd301-d856-482f-d438-53736da8bb30"
      },
      "outputs": [
        {
          "data": {
            "text/html": [
              "<div>\n",
              "<style scoped>\n",
              "    .dataframe tbody tr th:only-of-type {\n",
              "        vertical-align: middle;\n",
              "    }\n",
              "\n",
              "    .dataframe tbody tr th {\n",
              "        vertical-align: top;\n",
              "    }\n",
              "\n",
              "    .dataframe thead th {\n",
              "        text-align: right;\n",
              "    }\n",
              "</style>\n",
              "<table border=\"1\" class=\"dataframe\">\n",
              "  <thead>\n",
              "    <tr style=\"text-align: right;\">\n",
              "      <th>room_type</th>\n",
              "      <th>Entire home/apt</th>\n",
              "      <th>Hotel room</th>\n",
              "      <th>Private room</th>\n",
              "      <th>Shared room</th>\n",
              "    </tr>\n",
              "    <tr>\n",
              "      <th>neighbourhood</th>\n",
              "      <th></th>\n",
              "      <th></th>\n",
              "      <th></th>\n",
              "      <th></th>\n",
              "    </tr>\n",
              "  </thead>\n",
              "  <tbody>\n",
              "    <tr>\n",
              "      <th>1Ο ΝΕΚΡΟΤΑΦΕΙΟ</th>\n",
              "      <td>55</td>\n",
              "      <td>0</td>\n",
              "      <td>0</td>\n",
              "      <td>0</td>\n",
              "    </tr>\n",
              "    <tr>\n",
              "      <th>ΑΓΙΟΣ ΕΛΕΥΘΕΡΙΟΣ</th>\n",
              "      <td>33</td>\n",
              "      <td>0</td>\n",
              "      <td>5</td>\n",
              "      <td>0</td>\n",
              "    </tr>\n",
              "    <tr>\n",
              "      <th>ΑΓΙΟΣ ΚΩΝΣΤΑΝΤΙΝΟΣ-ΠΛΑΤΕΙΑ ΒΑΘΗΣ</th>\n",
              "      <td>686</td>\n",
              "      <td>4</td>\n",
              "      <td>117</td>\n",
              "      <td>10</td>\n",
              "    </tr>\n",
              "    <tr>\n",
              "      <th>ΑΓΙΟΣ ΝΙΚΟΛΑΟΣ</th>\n",
              "      <td>91</td>\n",
              "      <td>0</td>\n",
              "      <td>8</td>\n",
              "      <td>0</td>\n",
              "    </tr>\n",
              "    <tr>\n",
              "      <th>ΑΚΑΔΗΜΙΑ ΠΛΑΤΩΝΟΣ</th>\n",
              "      <td>74</td>\n",
              "      <td>0</td>\n",
              "      <td>2</td>\n",
              "      <td>0</td>\n",
              "    </tr>\n",
              "    <tr>\n",
              "      <th>ΑΚΡΟΠΟΛΗ</th>\n",
              "      <td>360</td>\n",
              "      <td>6</td>\n",
              "      <td>20</td>\n",
              "      <td>0</td>\n",
              "    </tr>\n",
              "    <tr>\n",
              "      <th>ΑΜΠΕΛΟΚΗΠΟΙ</th>\n",
              "      <td>431</td>\n",
              "      <td>0</td>\n",
              "      <td>17</td>\n",
              "      <td>4</td>\n",
              "    </tr>\n",
              "    <tr>\n",
              "      <th>ΑΝΩ ΚΥΨΕΛΗ</th>\n",
              "      <td>103</td>\n",
              "      <td>0</td>\n",
              "      <td>16</td>\n",
              "      <td>0</td>\n",
              "    </tr>\n",
              "    <tr>\n",
              "      <th>ΑΝΩ ΠΑΤΗΣΙΑ</th>\n",
              "      <td>61</td>\n",
              "      <td>0</td>\n",
              "      <td>3</td>\n",
              "      <td>0</td>\n",
              "    </tr>\n",
              "    <tr>\n",
              "      <th>ΒΟΤΑΝΙΚΟΣ</th>\n",
              "      <td>73</td>\n",
              "      <td>0</td>\n",
              "      <td>7</td>\n",
              "      <td>0</td>\n",
              "    </tr>\n",
              "    <tr>\n",
              "      <th>ΓΚΑΖΙ</th>\n",
              "      <td>101</td>\n",
              "      <td>0</td>\n",
              "      <td>5</td>\n",
              "      <td>0</td>\n",
              "    </tr>\n",
              "    <tr>\n",
              "      <th>ΓΚΥΖΗ</th>\n",
              "      <td>104</td>\n",
              "      <td>0</td>\n",
              "      <td>14</td>\n",
              "      <td>0</td>\n",
              "    </tr>\n",
              "    <tr>\n",
              "      <th>ΓΟΥΒΑ</th>\n",
              "      <td>73</td>\n",
              "      <td>0</td>\n",
              "      <td>2</td>\n",
              "      <td>0</td>\n",
              "    </tr>\n",
              "    <tr>\n",
              "      <th>ΓΟΥΔΙ</th>\n",
              "      <td>209</td>\n",
              "      <td>1</td>\n",
              "      <td>18</td>\n",
              "      <td>2</td>\n",
              "    </tr>\n",
              "    <tr>\n",
              "      <th>ΕΛΛΗΝΟΡΩΣΩΝ</th>\n",
              "      <td>70</td>\n",
              "      <td>0</td>\n",
              "      <td>3</td>\n",
              "      <td>0</td>\n",
              "    </tr>\n",
              "    <tr>\n",
              "      <th>ΕΜΠΟΡΙΚΟ ΤΡΙΓΩΝΟ-ΠΛΑΚΑ</th>\n",
              "      <td>2059</td>\n",
              "      <td>41</td>\n",
              "      <td>281</td>\n",
              "      <td>35</td>\n",
              "    </tr>\n",
              "    <tr>\n",
              "      <th>ΖΑΠΠΕΙΟ</th>\n",
              "      <td>157</td>\n",
              "      <td>1</td>\n",
              "      <td>3</td>\n",
              "      <td>0</td>\n",
              "    </tr>\n",
              "    <tr>\n",
              "      <th>ΘΗΣΕΙΟ</th>\n",
              "      <td>335</td>\n",
              "      <td>12</td>\n",
              "      <td>39</td>\n",
              "      <td>0</td>\n",
              "    </tr>\n",
              "    <tr>\n",
              "      <th>ΙΛΙΣΙΑ</th>\n",
              "      <td>200</td>\n",
              "      <td>0</td>\n",
              "      <td>16</td>\n",
              "      <td>0</td>\n",
              "    </tr>\n",
              "    <tr>\n",
              "      <th>ΚΕΡΑΜΕΙΚΟΣ</th>\n",
              "      <td>310</td>\n",
              "      <td>8</td>\n",
              "      <td>19</td>\n",
              "      <td>6</td>\n",
              "    </tr>\n",
              "    <tr>\n",
              "      <th>ΚΟΛΟΚΥΝΘΟΥ</th>\n",
              "      <td>15</td>\n",
              "      <td>0</td>\n",
              "      <td>1</td>\n",
              "      <td>0</td>\n",
              "    </tr>\n",
              "    <tr>\n",
              "      <th>ΚΟΛΩΝΑΚΙ</th>\n",
              "      <td>392</td>\n",
              "      <td>10</td>\n",
              "      <td>23</td>\n",
              "      <td>0</td>\n",
              "    </tr>\n",
              "    <tr>\n",
              "      <th>ΚΟΛΩΝΟΣ</th>\n",
              "      <td>98</td>\n",
              "      <td>0</td>\n",
              "      <td>10</td>\n",
              "      <td>0</td>\n",
              "    </tr>\n",
              "    <tr>\n",
              "      <th>ΚΟΥΚΑΚΙ-ΜΑΚΡΥΓΙΑΝΝΗ</th>\n",
              "      <td>1043</td>\n",
              "      <td>5</td>\n",
              "      <td>74</td>\n",
              "      <td>0</td>\n",
              "    </tr>\n",
              "    <tr>\n",
              "      <th>ΚΥΨΕΛΗ</th>\n",
              "      <td>237</td>\n",
              "      <td>0</td>\n",
              "      <td>32</td>\n",
              "      <td>2</td>\n",
              "    </tr>\n",
              "    <tr>\n",
              "      <th>ΛΥΚΑΒΗΤΤΟΣ</th>\n",
              "      <td>151</td>\n",
              "      <td>5</td>\n",
              "      <td>5</td>\n",
              "      <td>1</td>\n",
              "    </tr>\n",
              "    <tr>\n",
              "      <th>ΜΟΥΣΕΙΟ-ΕΞΑΡΧΕΙΑ-ΝΕΑΠΟΛΗ</th>\n",
              "      <td>859</td>\n",
              "      <td>5</td>\n",
              "      <td>110</td>\n",
              "      <td>5</td>\n",
              "    </tr>\n",
              "    <tr>\n",
              "      <th>ΝΕΑ ΚΥΨΕΛΗ</th>\n",
              "      <td>60</td>\n",
              "      <td>0</td>\n",
              "      <td>4</td>\n",
              "      <td>0</td>\n",
              "    </tr>\n",
              "    <tr>\n",
              "      <th>ΝΕΟΣ ΚΟΣΜΟΣ</th>\n",
              "      <td>917</td>\n",
              "      <td>0</td>\n",
              "      <td>54</td>\n",
              "      <td>9</td>\n",
              "    </tr>\n",
              "    <tr>\n",
              "      <th>ΝΙΡΒΑΝΑ</th>\n",
              "      <td>160</td>\n",
              "      <td>0</td>\n",
              "      <td>14</td>\n",
              "      <td>0</td>\n",
              "    </tr>\n",
              "    <tr>\n",
              "      <th>ΠΑΓΚΡΑΤΙ</th>\n",
              "      <td>485</td>\n",
              "      <td>1</td>\n",
              "      <td>25</td>\n",
              "      <td>0</td>\n",
              "    </tr>\n",
              "    <tr>\n",
              "      <th>ΠΑΤΗΣΙΑ</th>\n",
              "      <td>145</td>\n",
              "      <td>0</td>\n",
              "      <td>21</td>\n",
              "      <td>0</td>\n",
              "    </tr>\n",
              "    <tr>\n",
              "      <th>ΠΕΔΙΟ ΑΡΕΩΣ</th>\n",
              "      <td>96</td>\n",
              "      <td>0</td>\n",
              "      <td>13</td>\n",
              "      <td>0</td>\n",
              "    </tr>\n",
              "    <tr>\n",
              "      <th>ΠΕΝΤΑΓΩΝΟ</th>\n",
              "      <td>2</td>\n",
              "      <td>0</td>\n",
              "      <td>0</td>\n",
              "      <td>0</td>\n",
              "    </tr>\n",
              "    <tr>\n",
              "      <th>ΠΕΤΡΑΛΩΝΑ</th>\n",
              "      <td>339</td>\n",
              "      <td>2</td>\n",
              "      <td>10</td>\n",
              "      <td>1</td>\n",
              "    </tr>\n",
              "    <tr>\n",
              "      <th>ΠΛΑΤΕΙΑ ΑΜΕΡΙΚΗΣ</th>\n",
              "      <td>158</td>\n",
              "      <td>0</td>\n",
              "      <td>22</td>\n",
              "      <td>0</td>\n",
              "    </tr>\n",
              "    <tr>\n",
              "      <th>ΠΛΑΤΕΙΑ ΑΤΤΙΚΗΣ</th>\n",
              "      <td>501</td>\n",
              "      <td>0</td>\n",
              "      <td>77</td>\n",
              "      <td>5</td>\n",
              "    </tr>\n",
              "    <tr>\n",
              "      <th>ΠΟΛΥΓΩΝΟ</th>\n",
              "      <td>28</td>\n",
              "      <td>0</td>\n",
              "      <td>0</td>\n",
              "      <td>1</td>\n",
              "    </tr>\n",
              "    <tr>\n",
              "      <th>ΠΡΟΜΠΟΝΑ</th>\n",
              "      <td>11</td>\n",
              "      <td>0</td>\n",
              "      <td>1</td>\n",
              "      <td>0</td>\n",
              "    </tr>\n",
              "    <tr>\n",
              "      <th>ΡΗΓΙΛΛΗΣ</th>\n",
              "      <td>5</td>\n",
              "      <td>0</td>\n",
              "      <td>0</td>\n",
              "      <td>0</td>\n",
              "    </tr>\n",
              "    <tr>\n",
              "      <th>ΡΙΖΟΥΠΟΛΗ</th>\n",
              "      <td>10</td>\n",
              "      <td>0</td>\n",
              "      <td>3</td>\n",
              "      <td>0</td>\n",
              "    </tr>\n",
              "    <tr>\n",
              "      <th>ΣΕΠΟΛΙΑ</th>\n",
              "      <td>41</td>\n",
              "      <td>0</td>\n",
              "      <td>4</td>\n",
              "      <td>0</td>\n",
              "    </tr>\n",
              "    <tr>\n",
              "      <th>ΣΤΑΔΙΟ</th>\n",
              "      <td>241</td>\n",
              "      <td>0</td>\n",
              "      <td>11</td>\n",
              "      <td>0</td>\n",
              "    </tr>\n",
              "    <tr>\n",
              "      <th>ΣΤΑΘΜΟΣ ΛΑΡΙΣΗΣ</th>\n",
              "      <td>73</td>\n",
              "      <td>4</td>\n",
              "      <td>4</td>\n",
              "      <td>4</td>\n",
              "    </tr>\n",
              "  </tbody>\n",
              "</table>\n",
              "</div>"
            ],
            "text/plain": [
              "room_type                         Entire home/apt  Hotel room  Private room  \\\n",
              "neighbourhood                                                                 \n",
              "1Ο ΝΕΚΡΟΤΑΦΕΙΟ                                 55           0             0   \n",
              "ΑΓΙΟΣ ΕΛΕΥΘΕΡΙΟΣ                               33           0             5   \n",
              "ΑΓΙΟΣ ΚΩΝΣΤΑΝΤΙΝΟΣ-ΠΛΑΤΕΙΑ ΒΑΘΗΣ              686           4           117   \n",
              "ΑΓΙΟΣ ΝΙΚΟΛΑΟΣ                                 91           0             8   \n",
              "ΑΚΑΔΗΜΙΑ ΠΛΑΤΩΝΟΣ                              74           0             2   \n",
              "ΑΚΡΟΠΟΛΗ                                      360           6            20   \n",
              "ΑΜΠΕΛΟΚΗΠΟΙ                                   431           0            17   \n",
              "ΑΝΩ ΚΥΨΕΛΗ                                    103           0            16   \n",
              "ΑΝΩ ΠΑΤΗΣΙΑ                                    61           0             3   \n",
              "ΒΟΤΑΝΙΚΟΣ                                      73           0             7   \n",
              "ΓΚΑΖΙ                                         101           0             5   \n",
              "ΓΚΥΖΗ                                         104           0            14   \n",
              "ΓΟΥΒΑ                                          73           0             2   \n",
              "ΓΟΥΔΙ                                         209           1            18   \n",
              "ΕΛΛΗΝΟΡΩΣΩΝ                                    70           0             3   \n",
              "ΕΜΠΟΡΙΚΟ ΤΡΙΓΩΝΟ-ΠΛΑΚΑ                       2059          41           281   \n",
              "ΖΑΠΠΕΙΟ                                       157           1             3   \n",
              "ΘΗΣΕΙΟ                                        335          12            39   \n",
              "ΙΛΙΣΙΑ                                        200           0            16   \n",
              "ΚΕΡΑΜΕΙΚΟΣ                                    310           8            19   \n",
              "ΚΟΛΟΚΥΝΘΟΥ                                     15           0             1   \n",
              "ΚΟΛΩΝΑΚΙ                                      392          10            23   \n",
              "ΚΟΛΩΝΟΣ                                        98           0            10   \n",
              "ΚΟΥΚΑΚΙ-ΜΑΚΡΥΓΙΑΝΝΗ                          1043           5            74   \n",
              "ΚΥΨΕΛΗ                                        237           0            32   \n",
              "ΛΥΚΑΒΗΤΤΟΣ                                    151           5             5   \n",
              "ΜΟΥΣΕΙΟ-ΕΞΑΡΧΕΙΑ-ΝΕΑΠΟΛΗ                      859           5           110   \n",
              "ΝΕΑ ΚΥΨΕΛΗ                                     60           0             4   \n",
              "ΝΕΟΣ ΚΟΣΜΟΣ                                   917           0            54   \n",
              "ΝΙΡΒΑΝΑ                                       160           0            14   \n",
              "ΠΑΓΚΡΑΤΙ                                      485           1            25   \n",
              "ΠΑΤΗΣΙΑ                                       145           0            21   \n",
              "ΠΕΔΙΟ ΑΡΕΩΣ                                    96           0            13   \n",
              "ΠΕΝΤΑΓΩΝΟ                                       2           0             0   \n",
              "ΠΕΤΡΑΛΩΝΑ                                     339           2            10   \n",
              "ΠΛΑΤΕΙΑ ΑΜΕΡΙΚΗΣ                              158           0            22   \n",
              "ΠΛΑΤΕΙΑ ΑΤΤΙΚΗΣ                               501           0            77   \n",
              "ΠΟΛΥΓΩΝΟ                                       28           0             0   \n",
              "ΠΡΟΜΠΟΝΑ                                       11           0             1   \n",
              "ΡΗΓΙΛΛΗΣ                                        5           0             0   \n",
              "ΡΙΖΟΥΠΟΛΗ                                      10           0             3   \n",
              "ΣΕΠΟΛΙΑ                                        41           0             4   \n",
              "ΣΤΑΔΙΟ                                        241           0            11   \n",
              "ΣΤΑΘΜΟΣ ΛΑΡΙΣΗΣ                                73           4             4   \n",
              "\n",
              "room_type                         Shared room  \n",
              "neighbourhood                                  \n",
              "1Ο ΝΕΚΡΟΤΑΦΕΙΟ                              0  \n",
              "ΑΓΙΟΣ ΕΛΕΥΘΕΡΙΟΣ                            0  \n",
              "ΑΓΙΟΣ ΚΩΝΣΤΑΝΤΙΝΟΣ-ΠΛΑΤΕΙΑ ΒΑΘΗΣ           10  \n",
              "ΑΓΙΟΣ ΝΙΚΟΛΑΟΣ                              0  \n",
              "ΑΚΑΔΗΜΙΑ ΠΛΑΤΩΝΟΣ                           0  \n",
              "ΑΚΡΟΠΟΛΗ                                    0  \n",
              "ΑΜΠΕΛΟΚΗΠΟΙ                                 4  \n",
              "ΑΝΩ ΚΥΨΕΛΗ                                  0  \n",
              "ΑΝΩ ΠΑΤΗΣΙΑ                                 0  \n",
              "ΒΟΤΑΝΙΚΟΣ                                   0  \n",
              "ΓΚΑΖΙ                                       0  \n",
              "ΓΚΥΖΗ                                       0  \n",
              "ΓΟΥΒΑ                                       0  \n",
              "ΓΟΥΔΙ                                       2  \n",
              "ΕΛΛΗΝΟΡΩΣΩΝ                                 0  \n",
              "ΕΜΠΟΡΙΚΟ ΤΡΙΓΩΝΟ-ΠΛΑΚΑ                     35  \n",
              "ΖΑΠΠΕΙΟ                                     0  \n",
              "ΘΗΣΕΙΟ                                      0  \n",
              "ΙΛΙΣΙΑ                                      0  \n",
              "ΚΕΡΑΜΕΙΚΟΣ                                  6  \n",
              "ΚΟΛΟΚΥΝΘΟΥ                                  0  \n",
              "ΚΟΛΩΝΑΚΙ                                    0  \n",
              "ΚΟΛΩΝΟΣ                                     0  \n",
              "ΚΟΥΚΑΚΙ-ΜΑΚΡΥΓΙΑΝΝΗ                         0  \n",
              "ΚΥΨΕΛΗ                                      2  \n",
              "ΛΥΚΑΒΗΤΤΟΣ                                  1  \n",
              "ΜΟΥΣΕΙΟ-ΕΞΑΡΧΕΙΑ-ΝΕΑΠΟΛΗ                    5  \n",
              "ΝΕΑ ΚΥΨΕΛΗ                                  0  \n",
              "ΝΕΟΣ ΚΟΣΜΟΣ                                 9  \n",
              "ΝΙΡΒΑΝΑ                                     0  \n",
              "ΠΑΓΚΡΑΤΙ                                    0  \n",
              "ΠΑΤΗΣΙΑ                                     0  \n",
              "ΠΕΔΙΟ ΑΡΕΩΣ                                 0  \n",
              "ΠΕΝΤΑΓΩΝΟ                                   0  \n",
              "ΠΕΤΡΑΛΩΝΑ                                   1  \n",
              "ΠΛΑΤΕΙΑ ΑΜΕΡΙΚΗΣ                            0  \n",
              "ΠΛΑΤΕΙΑ ΑΤΤΙΚΗΣ                             5  \n",
              "ΠΟΛΥΓΩΝΟ                                    1  \n",
              "ΠΡΟΜΠΟΝΑ                                    0  \n",
              "ΡΗΓΙΛΛΗΣ                                    0  \n",
              "ΡΙΖΟΥΠΟΛΗ                                   0  \n",
              "ΣΕΠΟΛΙΑ                                     0  \n",
              "ΣΤΑΔΙΟ                                      0  \n",
              "ΣΤΑΘΜΟΣ ΛΑΡΙΣΗΣ                             4  "
            ]
          },
          "execution_count": 32,
          "metadata": {},
          "output_type": "execute_result"
        }
      ],
      "source": [
        "listings_count2"
      ]
    },
    {
      "cell_type": "markdown",
      "metadata": {
        "id": "HuHuSuCrFiyk"
      },
      "source": [
        "## Prices per Day\n",
        "\n",
        "Create a table with the average price per listing per day. Draw a graph visualizing the table."
      ]
    },
    {
      "cell_type": "code",
      "execution_count": 33,
      "metadata": {
        "id": "9_JVFq-5cHw-"
      },
      "outputs": [],
      "source": [
        "df = pd.read_csv('calendar.csv') # step 1 load dataset"
      ]
    },
    {
      "cell_type": "code",
      "execution_count": 34,
      "metadata": {
        "id": "q8GEn9WlHZ96"
      },
      "outputs": [],
      "source": [
        " df = df.dropna()"
      ]
    },
    {
      "cell_type": "code",
      "execution_count": 35,
      "metadata": {
        "colab": {
          "base_uri": "https://localhost:8080/"
        },
        "id": "lK3KqseVF60T",
        "outputId": "3a84d7a4-bd01-42ee-ca23-9fa59ddc98e2"
      },
      "outputs": [
        {
          "data": {
            "text/plain": [
              "(4728229,)"
            ]
          },
          "execution_count": 35,
          "metadata": {},
          "output_type": "execute_result"
        }
      ],
      "source": [
        "df['price'].shape"
      ]
    },
    {
      "cell_type": "code",
      "execution_count": 36,
      "metadata": {
        "id": "8_n626yzcUaW"
      },
      "outputs": [],
      "source": [
        "df['date'] = pd.to_datetime(df['date'])"
      ]
    },
    {
      "cell_type": "code",
      "execution_count": 37,
      "metadata": {
        "colab": {
          "base_uri": "https://localhost:8080/"
        },
        "id": "6JBI3osjcYRH",
        "outputId": "4552464c-6c44-4beb-f4ae-b7d60e496dc8"
      },
      "outputs": [],
      "source": [
        "# Remove the dollar sign and convert 'price' to float\n",
        "type(df['price'][0])\n",
        "df['price'] = df['price'].str.replace('$','')"
      ]
    },
    {
      "cell_type": "code",
      "execution_count": 38,
      "metadata": {
        "id": "m7gk81g6dTOX"
      },
      "outputs": [],
      "source": [
        "df['price'] = df['price'].str.replace(',','')"
      ]
    },
    {
      "cell_type": "code",
      "execution_count": 39,
      "metadata": {
        "id": "EoziucReeYSG"
      },
      "outputs": [],
      "source": [
        "df['price']= df['price'].astype(float)"
      ]
    },
    {
      "cell_type": "code",
      "execution_count": 40,
      "metadata": {
        "colab": {
          "base_uri": "https://localhost:8080/"
        },
        "id": "hUPo3hu4epfa",
        "outputId": "94f39fe8-ab0e-4fe4-ea52-93c29e5055d2"
      },
      "outputs": [
        {
          "data": {
            "text/plain": [
              "0          150.0\n",
              "1          150.0\n",
              "2          150.0\n",
              "3          150.0\n",
              "4          300.0\n",
              "           ...  \n",
              "4728224     18.0\n",
              "4728225     16.0\n",
              "4728226     16.0\n",
              "4728227     16.0\n",
              "4728228     16.0\n",
              "Name: price, Length: 4728229, dtype: float64"
            ]
          },
          "execution_count": 40,
          "metadata": {},
          "output_type": "execute_result"
        }
      ],
      "source": [
        "df['price']"
      ]
    },
    {
      "cell_type": "code",
      "execution_count": 41,
      "metadata": {
        "id": "0lQGPCfTewys"
      },
      "outputs": [],
      "source": [
        "average_price_per_day = df.groupby(['date'])['price'].mean().reset_index()\n"
      ]
    },
    {
      "cell_type": "code",
      "execution_count": 42,
      "metadata": {
        "colab": {
          "base_uri": "https://localhost:8080/",
          "height": 419
        },
        "id": "IPEiP__8ezB3",
        "outputId": "6d01d453-dd31-4fb7-8e6e-ee92262c7122"
      },
      "outputs": [
        {
          "data": {
            "text/html": [
              "<div>\n",
              "<style scoped>\n",
              "    .dataframe tbody tr th:only-of-type {\n",
              "        vertical-align: middle;\n",
              "    }\n",
              "\n",
              "    .dataframe tbody tr th {\n",
              "        vertical-align: top;\n",
              "    }\n",
              "\n",
              "    .dataframe thead th {\n",
              "        text-align: right;\n",
              "    }\n",
              "</style>\n",
              "<table border=\"1\" class=\"dataframe\">\n",
              "  <thead>\n",
              "    <tr style=\"text-align: right;\">\n",
              "      <th></th>\n",
              "      <th>date</th>\n",
              "      <th>price</th>\n",
              "    </tr>\n",
              "  </thead>\n",
              "  <tbody>\n",
              "    <tr>\n",
              "      <th>0</th>\n",
              "      <td>2023-09-21</td>\n",
              "      <td>113.107689</td>\n",
              "    </tr>\n",
              "    <tr>\n",
              "      <th>1</th>\n",
              "      <td>2023-09-22</td>\n",
              "      <td>116.212290</td>\n",
              "    </tr>\n",
              "    <tr>\n",
              "      <th>2</th>\n",
              "      <td>2023-09-23</td>\n",
              "      <td>116.264860</td>\n",
              "    </tr>\n",
              "    <tr>\n",
              "      <th>3</th>\n",
              "      <td>2023-09-24</td>\n",
              "      <td>113.045932</td>\n",
              "    </tr>\n",
              "    <tr>\n",
              "      <th>4</th>\n",
              "      <td>2023-09-25</td>\n",
              "      <td>111.629226</td>\n",
              "    </tr>\n",
              "    <tr>\n",
              "      <th>...</th>\n",
              "      <td>...</td>\n",
              "      <td>...</td>\n",
              "    </tr>\n",
              "    <tr>\n",
              "      <th>360</th>\n",
              "      <td>2024-09-15</td>\n",
              "      <td>110.923736</td>\n",
              "    </tr>\n",
              "    <tr>\n",
              "      <th>361</th>\n",
              "      <td>2024-09-16</td>\n",
              "      <td>110.402933</td>\n",
              "    </tr>\n",
              "    <tr>\n",
              "      <th>362</th>\n",
              "      <td>2024-09-17</td>\n",
              "      <td>110.385488</td>\n",
              "    </tr>\n",
              "    <tr>\n",
              "      <th>363</th>\n",
              "      <td>2024-09-18</td>\n",
              "      <td>110.298572</td>\n",
              "    </tr>\n",
              "    <tr>\n",
              "      <th>364</th>\n",
              "      <td>2024-09-19</td>\n",
              "      <td>110.255577</td>\n",
              "    </tr>\n",
              "  </tbody>\n",
              "</table>\n",
              "<p>365 rows × 2 columns</p>\n",
              "</div>"
            ],
            "text/plain": [
              "          date       price\n",
              "0   2023-09-21  113.107689\n",
              "1   2023-09-22  116.212290\n",
              "2   2023-09-23  116.264860\n",
              "3   2023-09-24  113.045932\n",
              "4   2023-09-25  111.629226\n",
              "..         ...         ...\n",
              "360 2024-09-15  110.923736\n",
              "361 2024-09-16  110.402933\n",
              "362 2024-09-17  110.385488\n",
              "363 2024-09-18  110.298572\n",
              "364 2024-09-19  110.255577\n",
              "\n",
              "[365 rows x 2 columns]"
            ]
          },
          "execution_count": 42,
          "metadata": {},
          "output_type": "execute_result"
        }
      ],
      "source": [
        "average_price_per_day"
      ]
    },
    {
      "cell_type": "code",
      "execution_count": 43,
      "metadata": {
        "id": "9S_MG7Wje3Eb"
      },
      "outputs": [],
      "source": [
        "table = average_price_per_day.pivot_table(index='date', values='price', fill_value=0)\n"
      ]
    },
    {
      "cell_type": "code",
      "execution_count": 44,
      "metadata": {
        "colab": {
          "base_uri": "https://localhost:8080/",
          "height": 450
        },
        "id": "34h2USJre5AX",
        "outputId": "45e18bf8-a10d-4afd-a8f6-59d8720edea3"
      },
      "outputs": [
        {
          "data": {
            "text/html": [
              "<div>\n",
              "<style scoped>\n",
              "    .dataframe tbody tr th:only-of-type {\n",
              "        vertical-align: middle;\n",
              "    }\n",
              "\n",
              "    .dataframe tbody tr th {\n",
              "        vertical-align: top;\n",
              "    }\n",
              "\n",
              "    .dataframe thead th {\n",
              "        text-align: right;\n",
              "    }\n",
              "</style>\n",
              "<table border=\"1\" class=\"dataframe\">\n",
              "  <thead>\n",
              "    <tr style=\"text-align: right;\">\n",
              "      <th></th>\n",
              "      <th>price</th>\n",
              "    </tr>\n",
              "    <tr>\n",
              "      <th>date</th>\n",
              "      <th></th>\n",
              "    </tr>\n",
              "  </thead>\n",
              "  <tbody>\n",
              "    <tr>\n",
              "      <th>2023-09-21</th>\n",
              "      <td>113.107689</td>\n",
              "    </tr>\n",
              "    <tr>\n",
              "      <th>2023-09-22</th>\n",
              "      <td>116.212290</td>\n",
              "    </tr>\n",
              "    <tr>\n",
              "      <th>2023-09-23</th>\n",
              "      <td>116.264860</td>\n",
              "    </tr>\n",
              "    <tr>\n",
              "      <th>2023-09-24</th>\n",
              "      <td>113.045932</td>\n",
              "    </tr>\n",
              "    <tr>\n",
              "      <th>2023-09-25</th>\n",
              "      <td>111.629226</td>\n",
              "    </tr>\n",
              "    <tr>\n",
              "      <th>...</th>\n",
              "      <td>...</td>\n",
              "    </tr>\n",
              "    <tr>\n",
              "      <th>2024-09-15</th>\n",
              "      <td>110.923736</td>\n",
              "    </tr>\n",
              "    <tr>\n",
              "      <th>2024-09-16</th>\n",
              "      <td>110.402933</td>\n",
              "    </tr>\n",
              "    <tr>\n",
              "      <th>2024-09-17</th>\n",
              "      <td>110.385488</td>\n",
              "    </tr>\n",
              "    <tr>\n",
              "      <th>2024-09-18</th>\n",
              "      <td>110.298572</td>\n",
              "    </tr>\n",
              "    <tr>\n",
              "      <th>2024-09-19</th>\n",
              "      <td>110.255577</td>\n",
              "    </tr>\n",
              "  </tbody>\n",
              "</table>\n",
              "<p>365 rows × 1 columns</p>\n",
              "</div>"
            ],
            "text/plain": [
              "                 price\n",
              "date                  \n",
              "2023-09-21  113.107689\n",
              "2023-09-22  116.212290\n",
              "2023-09-23  116.264860\n",
              "2023-09-24  113.045932\n",
              "2023-09-25  111.629226\n",
              "...                ...\n",
              "2024-09-15  110.923736\n",
              "2024-09-16  110.402933\n",
              "2024-09-17  110.385488\n",
              "2024-09-18  110.298572\n",
              "2024-09-19  110.255577\n",
              "\n",
              "[365 rows x 1 columns]"
            ]
          },
          "execution_count": 44,
          "metadata": {},
          "output_type": "execute_result"
        }
      ],
      "source": [
        "table"
      ]
    },
    {
      "cell_type": "code",
      "execution_count": 45,
      "metadata": {
        "colab": {
          "base_uri": "https://localhost:8080/",
          "height": 472
        },
        "id": "l3qeCgCre9g-",
        "outputId": "21c89c65-847e-4c6f-e7b0-eb5e6fc8e3ea"
      },
      "outputs": [
        {
          "data": {
            "image/png": "[encoded data removed]",
            "text/plain": [
              "<Figure size 640x480 with 1 Axes>"
            ]
          },
          "metadata": {},
          "output_type": "display_data"
        }
      ],
      "source": [
        "import matplotlib.pyplot as plt\n",
        "\n",
        "\n",
        "for listing_id in table.columns:\n",
        "    plt.plot(table.index, table[listing_id], label=f'Listing {listing_id}')\n",
        "\n",
        "# Set labels and title\n",
        "plt.xlabel('Date')\n",
        "plt.ylabel('Average Price')\n",
        "plt.title('Average Price per Listing per Day')\n",
        "plt.legend(loc='best')\n",
        "\n",
        "# Show the plot\n",
        "plt.show()\n"
      ]
    },
    {
      "cell_type": "code",
      "execution_count": 46,
      "metadata": {
        "colab": {
          "base_uri": "https://localhost:8080/",
          "height": 607
        },
        "id": "hEBUi4RyxU87",
        "outputId": "bd97a525-1ed2-4179-d50d-1f6fe5e91db8"
      },
      "outputs": [
        {
          "data": {
            "image/png": "[encoded data removed]",
            "text/plain": [
              "<Figure size 1200x600 with 1 Axes>"
            ]
          },
          "metadata": {},
          "output_type": "display_data"
        }
      ],
      "source": [
        "import matplotlib.pyplot as plt\n",
        "fig, ax = plt.subplots(figsize=(12, 6))\n",
        "\n",
        "for listing_id in table.columns:\n",
        "    ax.plot(table.index, table[listing_id], label=f'Listing {listing_id}')\n",
        "\n",
        "# Set labels and title\n",
        "\n",
        "ax.set_xlabel('Date')\n",
        "ax.set_ylabel('Average Price')\n",
        "ax.set_title('Average Price per Day for Listings')\n",
        "ax.legend(loc='best')\n",
        "plt.grid(True)\n",
        "plt.tight_layout()\n",
        "# Show the plot\n",
        "plt.show()"
      ]
    },
    {
      "cell_type": "markdown",
      "metadata": {
        "id": "nhEiNQA7O7ce"
      },
      "source": [
        "## Listings per Host\n",
        "\n",
        "Create a table with the number of listings per host, in descending order. Create a graph that will show the distribution of listings per host, as follows:\n",
        "\n",
        "* You will rank the host on a number of listings basis. So, the first host will be the one with the largest number of listings, the second host will be the one with the second largest number of listings, etc. If there is a number of hosts with the same listings, just add them in sequence. For instance, if there are 10 hosts with one listing each, add them in the ranking with any order between them.\n",
        "\n",
        "* On the $y$ axis you will have the number of listings.\n",
        "\n",
        "That is, a point $(x, y)$ will mean that the $x$-th highest hosting host has $y$ listings.\n",
        "\n",
        "After you have drawn the plot, do another one, this time with the $x$ axis in *logarithmic* scale."
      ]
    },
    {
      "cell_type": "code",
      "execution_count": 47,
      "metadata": {
        "id": "_MpRPYs5O_c_"
      },
      "outputs": [],
      "source": [
        "data = pd.read_csv('listings-2.csv') # step 1 load dataset"
      ]
    },
    {
      "cell_type": "code",
      "execution_count": 48,
      "metadata": {
        "id": "X007K-OGQowk"
      },
      "outputs": [],
      "source": [
        "data = pd.DataFrame(data)"
      ]
    },
    {
      "cell_type": "code",
      "execution_count": 49,
      "metadata": {
        "id": "RxON6vNPPPIC"
      },
      "outputs": [],
      "source": [
        "#calculate the number of listings per host, reset index and sort in descending order\n",
        "listings_per_host = data['host_id'].value_counts().sort_values(ascending=False).reset_index()"
      ]
    },
    {
      "cell_type": "code",
      "execution_count": 50,
      "metadata": {
        "id": "69KwuLOhRo0x"
      },
      "outputs": [],
      "source": [
        "#rename the columns\n",
        "listings_per_host.columns=['Host Id','Number Of Listings']"
      ]
    },
    {
      "cell_type": "code",
      "execution_count": 51,
      "metadata": {
        "colab": {
          "base_uri": "https://localhost:8080/",
          "height": 419
        },
        "id": "uNEx8yB-QBZg",
        "outputId": "56e759c8-edfa-45bb-80ca-12c843f1d42e"
      },
      "outputs": [
        {
          "data": {
            "text/html": [
              "<div>\n",
              "<style scoped>\n",
              "    .dataframe tbody tr th:only-of-type {\n",
              "        vertical-align: middle;\n",
              "    }\n",
              "\n",
              "    .dataframe tbody tr th {\n",
              "        vertical-align: top;\n",
              "    }\n",
              "\n",
              "    .dataframe thead th {\n",
              "        text-align: right;\n",
              "    }\n",
              "</style>\n",
              "<table border=\"1\" class=\"dataframe\">\n",
              "  <thead>\n",
              "    <tr style=\"text-align: right;\">\n",
              "      <th></th>\n",
              "      <th>Host Id</th>\n",
              "      <th>Number Of Listings</th>\n",
              "    </tr>\n",
              "  </thead>\n",
              "  <tbody>\n",
              "    <tr>\n",
              "      <th>0</th>\n",
              "      <td>20104194</td>\n",
              "      <td>114</td>\n",
              "    </tr>\n",
              "    <tr>\n",
              "      <th>1</th>\n",
              "      <td>113548208</td>\n",
              "      <td>88</td>\n",
              "    </tr>\n",
              "    <tr>\n",
              "      <th>2</th>\n",
              "      <td>90390850</td>\n",
              "      <td>78</td>\n",
              "    </tr>\n",
              "    <tr>\n",
              "      <th>3</th>\n",
              "      <td>748818</td>\n",
              "      <td>74</td>\n",
              "    </tr>\n",
              "    <tr>\n",
              "      <th>4</th>\n",
              "      <td>47267002</td>\n",
              "      <td>61</td>\n",
              "    </tr>\n",
              "    <tr>\n",
              "      <th>...</th>\n",
              "      <td>...</td>\n",
              "      <td>...</td>\n",
              "    </tr>\n",
              "    <tr>\n",
              "      <th>5769</th>\n",
              "      <td>46490655</td>\n",
              "      <td>1</td>\n",
              "    </tr>\n",
              "    <tr>\n",
              "      <th>5770</th>\n",
              "      <td>70507227</td>\n",
              "      <td>1</td>\n",
              "    </tr>\n",
              "    <tr>\n",
              "      <th>5771</th>\n",
              "      <td>93116996</td>\n",
              "      <td>1</td>\n",
              "    </tr>\n",
              "    <tr>\n",
              "      <th>5772</th>\n",
              "      <td>490569700</td>\n",
              "      <td>1</td>\n",
              "    </tr>\n",
              "    <tr>\n",
              "      <th>5773</th>\n",
              "      <td>30413739</td>\n",
              "      <td>1</td>\n",
              "    </tr>\n",
              "  </tbody>\n",
              "</table>\n",
              "<p>5774 rows × 2 columns</p>\n",
              "</div>"
            ],
            "text/plain": [
              "        Host Id  Number Of Listings\n",
              "0      20104194                 114\n",
              "1     113548208                  88\n",
              "2      90390850                  78\n",
              "3        748818                  74\n",
              "4      47267002                  61\n",
              "...         ...                 ...\n",
              "5769   46490655                   1\n",
              "5770   70507227                   1\n",
              "5771   93116996                   1\n",
              "5772  490569700                   1\n",
              "5773   30413739                   1\n",
              "\n",
              "[5774 rows x 2 columns]"
            ]
          },
          "execution_count": 51,
          "metadata": {},
          "output_type": "execute_result"
        }
      ],
      "source": [
        "listings_per_host"
      ]
    },
    {
      "cell_type": "code",
      "execution_count": 52,
      "metadata": {
        "id": "YGc111AiPsUi"
      },
      "outputs": [],
      "source": [
        "ranked_listings_per_host = listings_per_host.reset_index(drop=True)"
      ]
    },
    {
      "cell_type": "code",
      "execution_count": 53,
      "metadata": {
        "colab": {
          "base_uri": "https://localhost:8080/",
          "height": 419
        },
        "id": "L6SDDj0pTgKq",
        "outputId": "c2f63f5b-6a46-4606-eb0c-045dcb71192d"
      },
      "outputs": [
        {
          "data": {
            "text/html": [
              "<div>\n",
              "<style scoped>\n",
              "    .dataframe tbody tr th:only-of-type {\n",
              "        vertical-align: middle;\n",
              "    }\n",
              "\n",
              "    .dataframe tbody tr th {\n",
              "        vertical-align: top;\n",
              "    }\n",
              "\n",
              "    .dataframe thead th {\n",
              "        text-align: right;\n",
              "    }\n",
              "</style>\n",
              "<table border=\"1\" class=\"dataframe\">\n",
              "  <thead>\n",
              "    <tr style=\"text-align: right;\">\n",
              "      <th></th>\n",
              "      <th>Host Id</th>\n",
              "      <th>Number Of Listings</th>\n",
              "    </tr>\n",
              "  </thead>\n",
              "  <tbody>\n",
              "    <tr>\n",
              "      <th>0</th>\n",
              "      <td>20104194</td>\n",
              "      <td>114</td>\n",
              "    </tr>\n",
              "    <tr>\n",
              "      <th>1</th>\n",
              "      <td>113548208</td>\n",
              "      <td>88</td>\n",
              "    </tr>\n",
              "    <tr>\n",
              "      <th>2</th>\n",
              "      <td>90390850</td>\n",
              "      <td>78</td>\n",
              "    </tr>\n",
              "    <tr>\n",
              "      <th>3</th>\n",
              "      <td>748818</td>\n",
              "      <td>74</td>\n",
              "    </tr>\n",
              "    <tr>\n",
              "      <th>4</th>\n",
              "      <td>47267002</td>\n",
              "      <td>61</td>\n",
              "    </tr>\n",
              "    <tr>\n",
              "      <th>...</th>\n",
              "      <td>...</td>\n",
              "      <td>...</td>\n",
              "    </tr>\n",
              "    <tr>\n",
              "      <th>5769</th>\n",
              "      <td>46490655</td>\n",
              "      <td>1</td>\n",
              "    </tr>\n",
              "    <tr>\n",
              "      <th>5770</th>\n",
              "      <td>70507227</td>\n",
              "      <td>1</td>\n",
              "    </tr>\n",
              "    <tr>\n",
              "      <th>5771</th>\n",
              "      <td>93116996</td>\n",
              "      <td>1</td>\n",
              "    </tr>\n",
              "    <tr>\n",
              "      <th>5772</th>\n",
              "      <td>490569700</td>\n",
              "      <td>1</td>\n",
              "    </tr>\n",
              "    <tr>\n",
              "      <th>5773</th>\n",
              "      <td>30413739</td>\n",
              "      <td>1</td>\n",
              "    </tr>\n",
              "  </tbody>\n",
              "</table>\n",
              "<p>5774 rows × 2 columns</p>\n",
              "</div>"
            ],
            "text/plain": [
              "        Host Id  Number Of Listings\n",
              "0      20104194                 114\n",
              "1     113548208                  88\n",
              "2      90390850                  78\n",
              "3        748818                  74\n",
              "4      47267002                  61\n",
              "...         ...                 ...\n",
              "5769   46490655                   1\n",
              "5770   70507227                   1\n",
              "5771   93116996                   1\n",
              "5772  490569700                   1\n",
              "5773   30413739                   1\n",
              "\n",
              "[5774 rows x 2 columns]"
            ]
          },
          "execution_count": 53,
          "metadata": {},
          "output_type": "execute_result"
        }
      ],
      "source": [
        "ranked_listings_per_host"
      ]
    },
    {
      "cell_type": "code",
      "execution_count": 54,
      "metadata": {
        "colab": {
          "base_uri": "https://localhost:8080/",
          "height": 472
        },
        "id": "S8pAHybBTkF5",
        "outputId": "e86e331b-df9c-44f3-e1b4-d40e6854a5e6"
      },
      "outputs": [
        {
          "data": {
            "image/png": "[encoded data removed]",
            "text/plain": [
              "<Figure size 640x480 with 1 Axes>"
            ]
          },
          "metadata": {},
          "output_type": "display_data"
        }
      ],
      "source": [
        "plt.plot(ranked_listings_per_host.index+1, ranked_listings_per_host['Number Of Listings'])\n",
        "plt.xlabel('Host Ranking')\n",
        "plt.ylabel('Number of Listings')\n",
        "plt.title('Number of Listings per Host (Ranked)')\n",
        "plt.grid(True)\n",
        "plt.show()"
      ]
    },
    {
      "cell_type": "code",
      "execution_count": 55,
      "metadata": {
        "colab": {
          "base_uri": "https://localhost:8080/",
          "height": 476
        },
        "id": "_2mNZN8eamon",
        "outputId": "afc9aaae-9c24-45d9-e83c-b48b118aabbc"
      },
      "outputs": [
        {
          "data": {
            "image/png": "[encoded data removed]",
            "text/plain": [
              "<Figure size 640x480 with 1 Axes>"
            ]
          },
          "metadata": {},
          "output_type": "display_data"
        }
      ],
      "source": [
        "plt.xscale('log')\n",
        "plt.plot(ranked_listings_per_host.index+1, ranked_listings_per_host['Number Of Listings'])\n",
        "plt.xlabel('Host Ranking (Logarithmic Scale)')\n",
        "plt.ylabel('Number of Listings')\n",
        "plt.title('Number of Listings per Host (Ranked)')\n",
        "plt.grid(True)\n",
        "plt.show()"
      ]
    },
    {
      "cell_type": "code",
      "execution_count": 2,
      "metadata": {},
      "outputs": [],
      "source": [
        "import pandas as pd\n",
        "import folium\n",
        "from folium.plugins import MarkerCluster\n",
        "\n",
        "data = pd.read_csv('listings-2.csv')\n",
        "f_lat = data['latitude'][0]\n",
        "f_lon = data['longitude'][0]\n",
        "athens_map = folium.Map(location=[f_lat,f_lon],zoom_start = 13)\n",
        "marker_cluster = MarkerCluster(name='Listings').add_to(athens_map)\n",
        "\n",
        "for index, row in data.iterrows():\n",
        "    folium.Marker(\n",
        "        location=[row['latitude'], row['longitude']],\n",
        "        tooltip=row['name'],\n",
        "    ).add_to(marker_cluster)\n",
        "\n",
        "athens_map.save('athens_listings_map.html')"
      ]
    }
  ],
  "metadata": {
    "colab": {
      "provenance": []
    },
    "kernelspec": {
      "display_name": "Python 3",
      "name": "python3"
    },
    "language_info": {
      "codemirror_mode": {
        "name": "ipython",
        "version": 3
      },
      "file_extension": ".py",
      "mimetype": "text/x-python",
      "name": "python",
      "nbconvert_exporter": "python",
      "pygments_lexer": "ipython3",
      "version": "3.10.3"
    }
  },
  "nbformat": 4,
  "nbformat_minor": 0
}
